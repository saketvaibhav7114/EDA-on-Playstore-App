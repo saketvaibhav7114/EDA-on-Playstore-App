{
  "nbformat": 4,
  "nbformat_minor": 0,
  "metadata": {
    "colab": {
      "provenance": [],
      "mount_file_id": "1IVma0Fh5BZjqvABfba1z0bxwf5zDZUK8",
      "authorship_tag": "ABX9TyMsVX2TUQxhy2dce+jmLNwH",
      "include_colab_link": true
    },
    "kernelspec": {
      "name": "python3",
      "display_name": "Python 3"
    },
    "language_info": {
      "name": "python"
    }
  },
  "cells": [
    {
      "cell_type": "markdown",
      "metadata": {
        "id": "view-in-github",
        "colab_type": "text"
      },
      "source": [
        "<a href=\"https://colab.research.google.com/github/saketvaibhav7114/EDA-on-Playstore-App/blob/main/EDA_on_Play_Store_App_Review_Analysis.ipynb\" target=\"_parent\"><img src=\"https://colab.research.google.com/assets/colab-badge.svg\" alt=\"Open In Colab\"/></a>"
      ]
    },
    {
      "cell_type": "code",
      "execution_count": 251,
      "metadata": {
        "id": "Kc9QsU7FOY_P"
      },
      "outputs": [],
      "source": [
        "import pandas as pd\n",
        "import numpy as np\n",
        "import matplotlib.pyplot as plt\n",
        "import seaborn as sns"
      ]
    },
    {
      "cell_type": "code",
      "source": [
        "file_path_1='/content/drive/MyDrive/Play Store Data.csv'\n",
        "file_path_2='/content/drive/MyDrive/User Reviews.csv'\n",
        "df1=pd.read_csv(file_path_1)\n",
        "df2=pd.read_csv(file_path_2)"
      ],
      "metadata": {
        "id": "ztEeUu_dP7c6"
      },
      "execution_count": 252,
      "outputs": []
    },
    {
      "cell_type": "markdown",
      "source": [
        "# Merging the two dataset"
      ],
      "metadata": {
        "id": "t-ZzuDgnX4ib"
      }
    },
    {
      "cell_type": "code",
      "source": [
        "df=pd.merge(df1,df2,how='outer',on='App')"
      ],
      "metadata": {
        "id": "EDLD0R6tYEas"
      },
      "execution_count": 253,
      "outputs": []
    },
    {
      "cell_type": "markdown",
      "source": [
        "# Step 1: Data Understanding\n",
        "* Dataframe shape\n",
        "* Head & Tail\n",
        "* Dtype\n",
        "* Describe \n",
        "\n",
        "\n",
        "\n"
      ],
      "metadata": {
        "id": "469M-0YY-Mwb"
      }
    },
    {
      "cell_type": "code",
      "source": [
        "df.shape"
      ],
      "metadata": {
        "colab": {
          "base_uri": "https://localhost:8080/"
        },
        "id": "heHZyTB2RpNR",
        "outputId": "70d5babf-db49-449a-b26d-f4fb0527bda6"
      },
      "execution_count": 254,
      "outputs": [
        {
          "output_type": "execute_result",
          "data": {
            "text/plain": [
              "(134710, 17)"
            ]
          },
          "metadata": {},
          "execution_count": 254
        }
      ]
    },
    {
      "cell_type": "code",
      "source": [
        "df.head()"
      ],
      "metadata": {
        "colab": {
          "base_uri": "https://localhost:8080/",
          "height": 513
        },
        "id": "yDnkaR3aRvhR",
        "outputId": "15992aa5-1b2b-4116-fd2d-5c0fdff50023"
      },
      "execution_count": 255,
      "outputs": [
        {
          "output_type": "execute_result",
          "data": {
            "text/plain": [
              "                                              App        Category  Rating  \\\n",
              "0  Photo Editor & Candy Camera & Grid & ScrapBook  ART_AND_DESIGN     4.1   \n",
              "1                             Coloring book moana  ART_AND_DESIGN     3.9   \n",
              "2                             Coloring book moana  ART_AND_DESIGN     3.9   \n",
              "3                             Coloring book moana  ART_AND_DESIGN     3.9   \n",
              "4                             Coloring book moana  ART_AND_DESIGN     3.9   \n",
              "\n",
              "  Reviews Size  Installs  Type Price Content Rating  \\\n",
              "0     159  19M   10,000+  Free     0       Everyone   \n",
              "1     967  14M  500,000+  Free     0       Everyone   \n",
              "2     967  14M  500,000+  Free     0       Everyone   \n",
              "3     967  14M  500,000+  Free     0       Everyone   \n",
              "4     967  14M  500,000+  Free     0       Everyone   \n",
              "\n",
              "                      Genres      Last Updated Current Ver   Android Ver  \\\n",
              "0               Art & Design   January 7, 2018       1.0.0  4.0.3 and up   \n",
              "1  Art & Design;Pretend Play  January 15, 2018       2.0.0  4.0.3 and up   \n",
              "2  Art & Design;Pretend Play  January 15, 2018       2.0.0  4.0.3 and up   \n",
              "3  Art & Design;Pretend Play  January 15, 2018       2.0.0  4.0.3 and up   \n",
              "4  Art & Design;Pretend Play  January 15, 2018       2.0.0  4.0.3 and up   \n",
              "\n",
              "                                   Translated_Review Sentiment  \\\n",
              "0                                                NaN       NaN   \n",
              "1  A kid's excessive ads. The types ads allowed a...  Negative   \n",
              "2                                         It bad >:(  Negative   \n",
              "3                                               like   Neutral   \n",
              "4                                                NaN       NaN   \n",
              "\n",
              "   Sentiment_Polarity  Sentiment_Subjectivity  \n",
              "0                 NaN                     NaN  \n",
              "1              -0.250                1.000000  \n",
              "2              -0.725                0.833333  \n",
              "3               0.000                0.000000  \n",
              "4                 NaN                     NaN  "
            ],
            "text/html": [
              "\n",
              "  <div id=\"df-d4307248-1286-4084-88c9-348c55c9150e\">\n",
              "    <div class=\"colab-df-container\">\n",
              "      <div>\n",
              "<style scoped>\n",
              "    .dataframe tbody tr th:only-of-type {\n",
              "        vertical-align: middle;\n",
              "    }\n",
              "\n",
              "    .dataframe tbody tr th {\n",
              "        vertical-align: top;\n",
              "    }\n",
              "\n",
              "    .dataframe thead th {\n",
              "        text-align: right;\n",
              "    }\n",
              "</style>\n",
              "<table border=\"1\" class=\"dataframe\">\n",
              "  <thead>\n",
              "    <tr style=\"text-align: right;\">\n",
              "      <th></th>\n",
              "      <th>App</th>\n",
              "      <th>Category</th>\n",
              "      <th>Rating</th>\n",
              "      <th>Reviews</th>\n",
              "      <th>Size</th>\n",
              "      <th>Installs</th>\n",
              "      <th>Type</th>\n",
              "      <th>Price</th>\n",
              "      <th>Content Rating</th>\n",
              "      <th>Genres</th>\n",
              "      <th>Last Updated</th>\n",
              "      <th>Current Ver</th>\n",
              "      <th>Android Ver</th>\n",
              "      <th>Translated_Review</th>\n",
              "      <th>Sentiment</th>\n",
              "      <th>Sentiment_Polarity</th>\n",
              "      <th>Sentiment_Subjectivity</th>\n",
              "    </tr>\n",
              "  </thead>\n",
              "  <tbody>\n",
              "    <tr>\n",
              "      <th>0</th>\n",
              "      <td>Photo Editor &amp; Candy Camera &amp; Grid &amp; ScrapBook</td>\n",
              "      <td>ART_AND_DESIGN</td>\n",
              "      <td>4.1</td>\n",
              "      <td>159</td>\n",
              "      <td>19M</td>\n",
              "      <td>10,000+</td>\n",
              "      <td>Free</td>\n",
              "      <td>0</td>\n",
              "      <td>Everyone</td>\n",
              "      <td>Art &amp; Design</td>\n",
              "      <td>January 7, 2018</td>\n",
              "      <td>1.0.0</td>\n",
              "      <td>4.0.3 and up</td>\n",
              "      <td>NaN</td>\n",
              "      <td>NaN</td>\n",
              "      <td>NaN</td>\n",
              "      <td>NaN</td>\n",
              "    </tr>\n",
              "    <tr>\n",
              "      <th>1</th>\n",
              "      <td>Coloring book moana</td>\n",
              "      <td>ART_AND_DESIGN</td>\n",
              "      <td>3.9</td>\n",
              "      <td>967</td>\n",
              "      <td>14M</td>\n",
              "      <td>500,000+</td>\n",
              "      <td>Free</td>\n",
              "      <td>0</td>\n",
              "      <td>Everyone</td>\n",
              "      <td>Art &amp; Design;Pretend Play</td>\n",
              "      <td>January 15, 2018</td>\n",
              "      <td>2.0.0</td>\n",
              "      <td>4.0.3 and up</td>\n",
              "      <td>A kid's excessive ads. The types ads allowed a...</td>\n",
              "      <td>Negative</td>\n",
              "      <td>-0.250</td>\n",
              "      <td>1.000000</td>\n",
              "    </tr>\n",
              "    <tr>\n",
              "      <th>2</th>\n",
              "      <td>Coloring book moana</td>\n",
              "      <td>ART_AND_DESIGN</td>\n",
              "      <td>3.9</td>\n",
              "      <td>967</td>\n",
              "      <td>14M</td>\n",
              "      <td>500,000+</td>\n",
              "      <td>Free</td>\n",
              "      <td>0</td>\n",
              "      <td>Everyone</td>\n",
              "      <td>Art &amp; Design;Pretend Play</td>\n",
              "      <td>January 15, 2018</td>\n",
              "      <td>2.0.0</td>\n",
              "      <td>4.0.3 and up</td>\n",
              "      <td>It bad &gt;:(</td>\n",
              "      <td>Negative</td>\n",
              "      <td>-0.725</td>\n",
              "      <td>0.833333</td>\n",
              "    </tr>\n",
              "    <tr>\n",
              "      <th>3</th>\n",
              "      <td>Coloring book moana</td>\n",
              "      <td>ART_AND_DESIGN</td>\n",
              "      <td>3.9</td>\n",
              "      <td>967</td>\n",
              "      <td>14M</td>\n",
              "      <td>500,000+</td>\n",
              "      <td>Free</td>\n",
              "      <td>0</td>\n",
              "      <td>Everyone</td>\n",
              "      <td>Art &amp; Design;Pretend Play</td>\n",
              "      <td>January 15, 2018</td>\n",
              "      <td>2.0.0</td>\n",
              "      <td>4.0.3 and up</td>\n",
              "      <td>like</td>\n",
              "      <td>Neutral</td>\n",
              "      <td>0.000</td>\n",
              "      <td>0.000000</td>\n",
              "    </tr>\n",
              "    <tr>\n",
              "      <th>4</th>\n",
              "      <td>Coloring book moana</td>\n",
              "      <td>ART_AND_DESIGN</td>\n",
              "      <td>3.9</td>\n",
              "      <td>967</td>\n",
              "      <td>14M</td>\n",
              "      <td>500,000+</td>\n",
              "      <td>Free</td>\n",
              "      <td>0</td>\n",
              "      <td>Everyone</td>\n",
              "      <td>Art &amp; Design;Pretend Play</td>\n",
              "      <td>January 15, 2018</td>\n",
              "      <td>2.0.0</td>\n",
              "      <td>4.0.3 and up</td>\n",
              "      <td>NaN</td>\n",
              "      <td>NaN</td>\n",
              "      <td>NaN</td>\n",
              "      <td>NaN</td>\n",
              "    </tr>\n",
              "  </tbody>\n",
              "</table>\n",
              "</div>\n",
              "      <button class=\"colab-df-convert\" onclick=\"convertToInteractive('df-d4307248-1286-4084-88c9-348c55c9150e')\"\n",
              "              title=\"Convert this dataframe to an interactive table.\"\n",
              "              style=\"display:none;\">\n",
              "        \n",
              "  <svg xmlns=\"http://www.w3.org/2000/svg\" height=\"24px\"viewBox=\"0 0 24 24\"\n",
              "       width=\"24px\">\n",
              "    <path d=\"M0 0h24v24H0V0z\" fill=\"none\"/>\n",
              "    <path d=\"M18.56 5.44l.94 2.06.94-2.06 2.06-.94-2.06-.94-.94-2.06-.94 2.06-2.06.94zm-11 1L8.5 8.5l.94-2.06 2.06-.94-2.06-.94L8.5 2.5l-.94 2.06-2.06.94zm10 10l.94 2.06.94-2.06 2.06-.94-2.06-.94-.94-2.06-.94 2.06-2.06.94z\"/><path d=\"M17.41 7.96l-1.37-1.37c-.4-.4-.92-.59-1.43-.59-.52 0-1.04.2-1.43.59L10.3 9.45l-7.72 7.72c-.78.78-.78 2.05 0 2.83L4 21.41c.39.39.9.59 1.41.59.51 0 1.02-.2 1.41-.59l7.78-7.78 2.81-2.81c.8-.78.8-2.07 0-2.86zM5.41 20L4 18.59l7.72-7.72 1.47 1.35L5.41 20z\"/>\n",
              "  </svg>\n",
              "      </button>\n",
              "      \n",
              "  <style>\n",
              "    .colab-df-container {\n",
              "      display:flex;\n",
              "      flex-wrap:wrap;\n",
              "      gap: 12px;\n",
              "    }\n",
              "\n",
              "    .colab-df-convert {\n",
              "      background-color: #E8F0FE;\n",
              "      border: none;\n",
              "      border-radius: 50%;\n",
              "      cursor: pointer;\n",
              "      display: none;\n",
              "      fill: #1967D2;\n",
              "      height: 32px;\n",
              "      padding: 0 0 0 0;\n",
              "      width: 32px;\n",
              "    }\n",
              "\n",
              "    .colab-df-convert:hover {\n",
              "      background-color: #E2EBFA;\n",
              "      box-shadow: 0px 1px 2px rgba(60, 64, 67, 0.3), 0px 1px 3px 1px rgba(60, 64, 67, 0.15);\n",
              "      fill: #174EA6;\n",
              "    }\n",
              "\n",
              "    [theme=dark] .colab-df-convert {\n",
              "      background-color: #3B4455;\n",
              "      fill: #D2E3FC;\n",
              "    }\n",
              "\n",
              "    [theme=dark] .colab-df-convert:hover {\n",
              "      background-color: #434B5C;\n",
              "      box-shadow: 0px 1px 3px 1px rgba(0, 0, 0, 0.15);\n",
              "      filter: drop-shadow(0px 1px 2px rgba(0, 0, 0, 0.3));\n",
              "      fill: #FFFFFF;\n",
              "    }\n",
              "  </style>\n",
              "\n",
              "      <script>\n",
              "        const buttonEl =\n",
              "          document.querySelector('#df-d4307248-1286-4084-88c9-348c55c9150e button.colab-df-convert');\n",
              "        buttonEl.style.display =\n",
              "          google.colab.kernel.accessAllowed ? 'block' : 'none';\n",
              "\n",
              "        async function convertToInteractive(key) {\n",
              "          const element = document.querySelector('#df-d4307248-1286-4084-88c9-348c55c9150e');\n",
              "          const dataTable =\n",
              "            await google.colab.kernel.invokeFunction('convertToInteractive',\n",
              "                                                     [key], {});\n",
              "          if (!dataTable) return;\n",
              "\n",
              "          const docLinkHtml = 'Like what you see? Visit the ' +\n",
              "            '<a target=\"_blank\" href=https://colab.research.google.com/notebooks/data_table.ipynb>data table notebook</a>'\n",
              "            + ' to learn more about interactive tables.';\n",
              "          element.innerHTML = '';\n",
              "          dataTable['output_type'] = 'display_data';\n",
              "          await google.colab.output.renderOutput(dataTable, element);\n",
              "          const docLink = document.createElement('div');\n",
              "          docLink.innerHTML = docLinkHtml;\n",
              "          element.appendChild(docLink);\n",
              "        }\n",
              "      </script>\n",
              "    </div>\n",
              "  </div>\n",
              "  "
            ]
          },
          "metadata": {},
          "execution_count": 255
        }
      ]
    },
    {
      "cell_type": "code",
      "source": [
        "df.columns"
      ],
      "metadata": {
        "colab": {
          "base_uri": "https://localhost:8080/"
        },
        "id": "Bp2amL8kSAib",
        "outputId": "8d2117a0-8bbb-49bc-8f67-8e22bd34e014"
      },
      "execution_count": 256,
      "outputs": [
        {
          "output_type": "execute_result",
          "data": {
            "text/plain": [
              "Index(['App', 'Category', 'Rating', 'Reviews', 'Size', 'Installs', 'Type',\n",
              "       'Price', 'Content Rating', 'Genres', 'Last Updated', 'Current Ver',\n",
              "       'Android Ver', 'Translated_Review', 'Sentiment', 'Sentiment_Polarity',\n",
              "       'Sentiment_Subjectivity'],\n",
              "      dtype='object')"
            ]
          },
          "metadata": {},
          "execution_count": 256
        }
      ]
    },
    {
      "cell_type": "code",
      "source": [
        "df.info()"
      ],
      "metadata": {
        "colab": {
          "base_uri": "https://localhost:8080/"
        },
        "id": "BLv_nZpTSFpv",
        "outputId": "2c812ec4-bc4d-418e-eeb3-6e00db67a218"
      },
      "execution_count": 257,
      "outputs": [
        {
          "output_type": "stream",
          "name": "stdout",
          "text": [
            "<class 'pandas.core.frame.DataFrame'>\n",
            "Int64Index: 134710 entries, 0 to 134709\n",
            "Data columns (total 17 columns):\n",
            " #   Column                  Non-Null Count   Dtype  \n",
            "---  ------                  --------------   -----  \n",
            " 0   App                     134710 non-null  object \n",
            " 1   Category                131971 non-null  object \n",
            " 2   Rating                  130458 non-null  float64\n",
            " 3   Reviews                 131971 non-null  object \n",
            " 4   Size                    131971 non-null  object \n",
            " 5   Installs                131971 non-null  object \n",
            " 6   Type                    131970 non-null  object \n",
            " 7   Price                   131971 non-null  object \n",
            " 8   Content Rating          131970 non-null  object \n",
            " 9   Genres                  131971 non-null  object \n",
            " 10  Last Updated            131971 non-null  object \n",
            " 11  Current Ver             131963 non-null  object \n",
            " 12  Android Ver             131968 non-null  object \n",
            " 13  Translated_Review       74103 non-null   object \n",
            " 14  Sentiment               74113 non-null   object \n",
            " 15  Sentiment_Polarity      74113 non-null   float64\n",
            " 16  Sentiment_Subjectivity  74113 non-null   float64\n",
            "dtypes: float64(3), object(14)\n",
            "memory usage: 18.5+ MB\n"
          ]
        }
      ]
    },
    {
      "cell_type": "code",
      "source": [
        "df.describe()"
      ],
      "metadata": {
        "colab": {
          "base_uri": "https://localhost:8080/",
          "height": 300
        },
        "id": "pNmwnbp_YwQO",
        "outputId": "4e765f4f-1bda-40d6-9cd0-41ba781f2aac"
      },
      "execution_count": 258,
      "outputs": [
        {
          "output_type": "execute_result",
          "data": {
            "text/plain": [
              "              Rating  Sentiment_Polarity  Sentiment_Subjectivity\n",
              "count  130458.000000        74113.000000            74113.000000\n",
              "mean        4.313525            0.158436                0.493650\n",
              "std         0.311306            0.333733                0.241525\n",
              "min         1.000000           -1.000000                0.000000\n",
              "25%         4.200000            0.000000                0.377273\n",
              "50%         4.400000            0.130000                0.509091\n",
              "75%         4.500000            0.358333                0.633333\n",
              "max        19.000000            1.000000                1.000000"
            ],
            "text/html": [
              "\n",
              "  <div id=\"df-e4e55a59-15f2-4dfd-a02f-46f800916889\">\n",
              "    <div class=\"colab-df-container\">\n",
              "      <div>\n",
              "<style scoped>\n",
              "    .dataframe tbody tr th:only-of-type {\n",
              "        vertical-align: middle;\n",
              "    }\n",
              "\n",
              "    .dataframe tbody tr th {\n",
              "        vertical-align: top;\n",
              "    }\n",
              "\n",
              "    .dataframe thead th {\n",
              "        text-align: right;\n",
              "    }\n",
              "</style>\n",
              "<table border=\"1\" class=\"dataframe\">\n",
              "  <thead>\n",
              "    <tr style=\"text-align: right;\">\n",
              "      <th></th>\n",
              "      <th>Rating</th>\n",
              "      <th>Sentiment_Polarity</th>\n",
              "      <th>Sentiment_Subjectivity</th>\n",
              "    </tr>\n",
              "  </thead>\n",
              "  <tbody>\n",
              "    <tr>\n",
              "      <th>count</th>\n",
              "      <td>130458.000000</td>\n",
              "      <td>74113.000000</td>\n",
              "      <td>74113.000000</td>\n",
              "    </tr>\n",
              "    <tr>\n",
              "      <th>mean</th>\n",
              "      <td>4.313525</td>\n",
              "      <td>0.158436</td>\n",
              "      <td>0.493650</td>\n",
              "    </tr>\n",
              "    <tr>\n",
              "      <th>std</th>\n",
              "      <td>0.311306</td>\n",
              "      <td>0.333733</td>\n",
              "      <td>0.241525</td>\n",
              "    </tr>\n",
              "    <tr>\n",
              "      <th>min</th>\n",
              "      <td>1.000000</td>\n",
              "      <td>-1.000000</td>\n",
              "      <td>0.000000</td>\n",
              "    </tr>\n",
              "    <tr>\n",
              "      <th>25%</th>\n",
              "      <td>4.200000</td>\n",
              "      <td>0.000000</td>\n",
              "      <td>0.377273</td>\n",
              "    </tr>\n",
              "    <tr>\n",
              "      <th>50%</th>\n",
              "      <td>4.400000</td>\n",
              "      <td>0.130000</td>\n",
              "      <td>0.509091</td>\n",
              "    </tr>\n",
              "    <tr>\n",
              "      <th>75%</th>\n",
              "      <td>4.500000</td>\n",
              "      <td>0.358333</td>\n",
              "      <td>0.633333</td>\n",
              "    </tr>\n",
              "    <tr>\n",
              "      <th>max</th>\n",
              "      <td>19.000000</td>\n",
              "      <td>1.000000</td>\n",
              "      <td>1.000000</td>\n",
              "    </tr>\n",
              "  </tbody>\n",
              "</table>\n",
              "</div>\n",
              "      <button class=\"colab-df-convert\" onclick=\"convertToInteractive('df-e4e55a59-15f2-4dfd-a02f-46f800916889')\"\n",
              "              title=\"Convert this dataframe to an interactive table.\"\n",
              "              style=\"display:none;\">\n",
              "        \n",
              "  <svg xmlns=\"http://www.w3.org/2000/svg\" height=\"24px\"viewBox=\"0 0 24 24\"\n",
              "       width=\"24px\">\n",
              "    <path d=\"M0 0h24v24H0V0z\" fill=\"none\"/>\n",
              "    <path d=\"M18.56 5.44l.94 2.06.94-2.06 2.06-.94-2.06-.94-.94-2.06-.94 2.06-2.06.94zm-11 1L8.5 8.5l.94-2.06 2.06-.94-2.06-.94L8.5 2.5l-.94 2.06-2.06.94zm10 10l.94 2.06.94-2.06 2.06-.94-2.06-.94-.94-2.06-.94 2.06-2.06.94z\"/><path d=\"M17.41 7.96l-1.37-1.37c-.4-.4-.92-.59-1.43-.59-.52 0-1.04.2-1.43.59L10.3 9.45l-7.72 7.72c-.78.78-.78 2.05 0 2.83L4 21.41c.39.39.9.59 1.41.59.51 0 1.02-.2 1.41-.59l7.78-7.78 2.81-2.81c.8-.78.8-2.07 0-2.86zM5.41 20L4 18.59l7.72-7.72 1.47 1.35L5.41 20z\"/>\n",
              "  </svg>\n",
              "      </button>\n",
              "      \n",
              "  <style>\n",
              "    .colab-df-container {\n",
              "      display:flex;\n",
              "      flex-wrap:wrap;\n",
              "      gap: 12px;\n",
              "    }\n",
              "\n",
              "    .colab-df-convert {\n",
              "      background-color: #E8F0FE;\n",
              "      border: none;\n",
              "      border-radius: 50%;\n",
              "      cursor: pointer;\n",
              "      display: none;\n",
              "      fill: #1967D2;\n",
              "      height: 32px;\n",
              "      padding: 0 0 0 0;\n",
              "      width: 32px;\n",
              "    }\n",
              "\n",
              "    .colab-df-convert:hover {\n",
              "      background-color: #E2EBFA;\n",
              "      box-shadow: 0px 1px 2px rgba(60, 64, 67, 0.3), 0px 1px 3px 1px rgba(60, 64, 67, 0.15);\n",
              "      fill: #174EA6;\n",
              "    }\n",
              "\n",
              "    [theme=dark] .colab-df-convert {\n",
              "      background-color: #3B4455;\n",
              "      fill: #D2E3FC;\n",
              "    }\n",
              "\n",
              "    [theme=dark] .colab-df-convert:hover {\n",
              "      background-color: #434B5C;\n",
              "      box-shadow: 0px 1px 3px 1px rgba(0, 0, 0, 0.15);\n",
              "      filter: drop-shadow(0px 1px 2px rgba(0, 0, 0, 0.3));\n",
              "      fill: #FFFFFF;\n",
              "    }\n",
              "  </style>\n",
              "\n",
              "      <script>\n",
              "        const buttonEl =\n",
              "          document.querySelector('#df-e4e55a59-15f2-4dfd-a02f-46f800916889 button.colab-df-convert');\n",
              "        buttonEl.style.display =\n",
              "          google.colab.kernel.accessAllowed ? 'block' : 'none';\n",
              "\n",
              "        async function convertToInteractive(key) {\n",
              "          const element = document.querySelector('#df-e4e55a59-15f2-4dfd-a02f-46f800916889');\n",
              "          const dataTable =\n",
              "            await google.colab.kernel.invokeFunction('convertToInteractive',\n",
              "                                                     [key], {});\n",
              "          if (!dataTable) return;\n",
              "\n",
              "          const docLinkHtml = 'Like what you see? Visit the ' +\n",
              "            '<a target=\"_blank\" href=https://colab.research.google.com/notebooks/data_table.ipynb>data table notebook</a>'\n",
              "            + ' to learn more about interactive tables.';\n",
              "          element.innerHTML = '';\n",
              "          dataTable['output_type'] = 'display_data';\n",
              "          await google.colab.output.renderOutput(dataTable, element);\n",
              "          const docLink = document.createElement('div');\n",
              "          docLink.innerHTML = docLinkHtml;\n",
              "          element.appendChild(docLink);\n",
              "        }\n",
              "      </script>\n",
              "    </div>\n",
              "  </div>\n",
              "  "
            ]
          },
          "metadata": {},
          "execution_count": 258
        }
      ]
    },
    {
      "cell_type": "code",
      "source": [
        "df.isnull().sum()"
      ],
      "metadata": {
        "colab": {
          "base_uri": "https://localhost:8080/"
        },
        "id": "60Jk9HIHaPbR",
        "outputId": "4bb4c260-1a6c-4d95-ccc5-8c46ab609241"
      },
      "execution_count": 259,
      "outputs": [
        {
          "output_type": "execute_result",
          "data": {
            "text/plain": [
              "App                           0\n",
              "Category                   2739\n",
              "Rating                     4252\n",
              "Reviews                    2739\n",
              "Size                       2739\n",
              "Installs                   2739\n",
              "Type                       2740\n",
              "Price                      2739\n",
              "Content Rating             2740\n",
              "Genres                     2739\n",
              "Last Updated               2739\n",
              "Current Ver                2747\n",
              "Android Ver                2742\n",
              "Translated_Review         60607\n",
              "Sentiment                 60597\n",
              "Sentiment_Polarity        60597\n",
              "Sentiment_Subjectivity    60597\n",
              "dtype: int64"
            ]
          },
          "metadata": {},
          "execution_count": 259
        }
      ]
    },
    {
      "cell_type": "markdown",
      "source": [
        "# Preparing the data for visualization\n",
        "\n",
        "\n",
        "*   Dropping Unnecessary Columns\n",
        "*   Data Cleaning\n",
        "\n",
        "*   Checking Outliers\n",
        "*   Data Manipulation\n",
        "\n",
        "\n",
        "\n"
      ],
      "metadata": {
        "id": "GZ6o_aKRivH2"
      }
    },
    {
      "cell_type": "markdown",
      "source": [
        "## Dropping unwanted columns"
      ],
      "metadata": {
        "id": "GUn4OcaPkt59"
      }
    },
    {
      "cell_type": "code",
      "source": [
        "df=df.drop(['Translated_Review','Sentiment'],axis=1)"
      ],
      "metadata": {
        "id": "Nb5DYYTakxQ3"
      },
      "execution_count": 260,
      "outputs": []
    },
    {
      "cell_type": "markdown",
      "source": [
        "## Filling Rating columns with median values"
      ],
      "metadata": {
        "id": "ElWYbg-a-0fJ"
      }
    },
    {
      "cell_type": "code",
      "source": [
        "df['Rating']=df['Rating'].fillna(df['Rating'].median())"
      ],
      "metadata": {
        "id": "IhqEEk7L-_EW"
      },
      "execution_count": 261,
      "outputs": []
    },
    {
      "cell_type": "code",
      "source": [
        "df['Sentiment_Polarity']=df['Sentiment_Polarity'].fillna(df['Sentiment_Polarity'].median())"
      ],
      "metadata": {
        "id": "2rYfm0P4_8CK"
      },
      "execution_count": 262,
      "outputs": []
    },
    {
      "cell_type": "code",
      "source": [
        "df['Sentiment_Subjectivity']=df['Sentiment_Subjectivity'].fillna(df['Sentiment_Subjectivity'].median())"
      ],
      "metadata": {
        "id": "qz3dQZWS_8dR"
      },
      "execution_count": 263,
      "outputs": []
    },
    {
      "cell_type": "code",
      "source": [
        "df.info()"
      ],
      "metadata": {
        "colab": {
          "base_uri": "https://localhost:8080/"
        },
        "id": "kMFrT5QIAxaY",
        "outputId": "866f3ce6-4776-4613-b43c-27bf14d5d36b"
      },
      "execution_count": 264,
      "outputs": [
        {
          "output_type": "stream",
          "name": "stdout",
          "text": [
            "<class 'pandas.core.frame.DataFrame'>\n",
            "Int64Index: 134710 entries, 0 to 134709\n",
            "Data columns (total 15 columns):\n",
            " #   Column                  Non-Null Count   Dtype  \n",
            "---  ------                  --------------   -----  \n",
            " 0   App                     134710 non-null  object \n",
            " 1   Category                131971 non-null  object \n",
            " 2   Rating                  134710 non-null  float64\n",
            " 3   Reviews                 131971 non-null  object \n",
            " 4   Size                    131971 non-null  object \n",
            " 5   Installs                131971 non-null  object \n",
            " 6   Type                    131970 non-null  object \n",
            " 7   Price                   131971 non-null  object \n",
            " 8   Content Rating          131970 non-null  object \n",
            " 9   Genres                  131971 non-null  object \n",
            " 10  Last Updated            131971 non-null  object \n",
            " 11  Current Ver             131963 non-null  object \n",
            " 12  Android Ver             131968 non-null  object \n",
            " 13  Sentiment_Polarity      134710 non-null  float64\n",
            " 14  Sentiment_Subjectivity  134710 non-null  float64\n",
            "dtypes: float64(3), object(12)\n",
            "memory usage: 16.4+ MB\n"
          ]
        }
      ]
    },
    {
      "cell_type": "markdown",
      "source": [
        "## Cleanup (Remove nan values and duplicates)"
      ],
      "metadata": {
        "id": "d9IIBBJvGuyu"
      }
    },
    {
      "cell_type": "code",
      "source": [
        "df.dropna(how='any',inplace=True)"
      ],
      "metadata": {
        "id": "iqzUscdtG40e"
      },
      "execution_count": 265,
      "outputs": []
    },
    {
      "cell_type": "code",
      "source": [
        "df.shape"
      ],
      "metadata": {
        "id": "AtHBEOl-HEpW",
        "colab": {
          "base_uri": "https://localhost:8080/"
        },
        "outputId": "485bfd8d-bc77-4ab7-abfa-5880f9b2dc56"
      },
      "execution_count": 266,
      "outputs": [
        {
          "output_type": "execute_result",
          "data": {
            "text/plain": [
              "(131959, 15)"
            ]
          },
          "metadata": {},
          "execution_count": 266
        }
      ]
    },
    {
      "cell_type": "code",
      "source": [
        "df.isnull().sum()"
      ],
      "metadata": {
        "id": "YpDSdHROHMgV",
        "colab": {
          "base_uri": "https://localhost:8080/"
        },
        "outputId": "ed0961ba-4033-44fa-c7e0-0d9e3ce7d179"
      },
      "execution_count": 267,
      "outputs": [
        {
          "output_type": "execute_result",
          "data": {
            "text/plain": [
              "App                       0\n",
              "Category                  0\n",
              "Rating                    0\n",
              "Reviews                   0\n",
              "Size                      0\n",
              "Installs                  0\n",
              "Type                      0\n",
              "Price                     0\n",
              "Content Rating            0\n",
              "Genres                    0\n",
              "Last Updated              0\n",
              "Current Ver               0\n",
              "Android Ver               0\n",
              "Sentiment_Polarity        0\n",
              "Sentiment_Subjectivity    0\n",
              "dtype: int64"
            ]
          },
          "metadata": {},
          "execution_count": 267
        }
      ]
    },
    {
      "cell_type": "code",
      "source": [
        "df.duplicated().sum()"
      ],
      "metadata": {
        "id": "od-QdJz7Hpbn",
        "colab": {
          "base_uri": "https://localhost:8080/"
        },
        "outputId": "0b565799-89e4-4700-d72d-511f4d195834"
      },
      "execution_count": 268,
      "outputs": [
        {
          "output_type": "execute_result",
          "data": {
            "text/plain": [
              "86547"
            ]
          },
          "metadata": {},
          "execution_count": 268
        }
      ]
    },
    {
      "cell_type": "code",
      "source": [
        "df.drop_duplicates(inplace=True)\n",
        "df.reset_index(drop=True,inplace=True)"
      ],
      "metadata": {
        "id": "CtKxWwoEH3cf"
      },
      "execution_count": 269,
      "outputs": []
    },
    {
      "cell_type": "code",
      "source": [
        "df.duplicated().sum()"
      ],
      "metadata": {
        "id": "VHbkQr9mJZ1w",
        "colab": {
          "base_uri": "https://localhost:8080/"
        },
        "outputId": "7306f6d8-8608-4010-e6c1-d774a247aa60"
      },
      "execution_count": 270,
      "outputs": [
        {
          "output_type": "execute_result",
          "data": {
            "text/plain": [
              "0"
            ]
          },
          "metadata": {},
          "execution_count": 270
        }
      ]
    },
    {
      "cell_type": "code",
      "source": [
        "df.shape"
      ],
      "metadata": {
        "colab": {
          "base_uri": "https://localhost:8080/"
        },
        "id": "wECRql6Sb0qp",
        "outputId": "fc593dc4-0ff0-4bbb-e0f9-991e8a5be81d"
      },
      "execution_count": 271,
      "outputs": [
        {
          "output_type": "execute_result",
          "data": {
            "text/plain": [
              "(45412, 15)"
            ]
          },
          "metadata": {},
          "execution_count": 271
        }
      ]
    },
    {
      "cell_type": "markdown",
      "source": [
        "## Checking The Outliers"
      ],
      "metadata": {
        "id": "Y39cXlqoSiKP"
      }
    },
    {
      "cell_type": "code",
      "source": [
        "df.boxplot();"
      ],
      "metadata": {
        "colab": {
          "base_uri": "https://localhost:8080/",
          "height": 430
        },
        "id": "WJ4NNlCwU-K0",
        "outputId": "e0dfccee-90ab-4c33-a24a-971be753670c"
      },
      "execution_count": 272,
      "outputs": [
        {
          "output_type": "display_data",
          "data": {
            "text/plain": [
              "<Figure size 640x480 with 1 Axes>"
            ],
            "image/png": "[encoded data removed]"
          },
          "metadata": {}
        }
      ]
    },
    {
      "cell_type": "code",
      "source": [
        "df['Rating'].plot(kind='hist',range=(1,5),bins=15)\n",
        "plt.xlabel('Ratings-------->')\n",
        "plt.grid()"
      ],
      "metadata": {
        "colab": {
          "base_uri": "https://localhost:8080/",
          "height": 449
        },
        "id": "goHjAeAKMSx1",
        "outputId": "eece9cfc-e420-4835-e093-537daab9df73"
      },
      "execution_count": 273,
      "outputs": [
        {
          "output_type": "display_data",
          "data": {
            "text/plain": [
              "<Figure size 640x480 with 1 Axes>"
            ],
            "image/png": "[encoded data removed]"
          },
          "metadata": {}
        }
      ]
    },
    {
      "cell_type": "code",
      "source": [
        "df['Category'].value_counts().sort_values(ascending=False)"
      ],
      "metadata": {
        "colab": {
          "base_uri": "https://localhost:8080/"
        },
        "id": "HFvxM8kSde6A",
        "outputId": "4e2dcee0-c519-4d12-e0d5-d81274bdd9d2"
      },
      "execution_count": 274,
      "outputs": [
        {
          "output_type": "execute_result",
          "data": {
            "text/plain": [
              "GAME                   9938\n",
              "FAMILY                 5096\n",
              "TOOLS                  2152\n",
              "HEALTH_AND_FITNESS     1933\n",
              "PRODUCTIVITY           1866\n",
              "SPORTS                 1750\n",
              "FINANCE                1748\n",
              "TRAVEL_AND_LOCAL       1730\n",
              "PHOTOGRAPHY            1650\n",
              "MEDICAL                1503\n",
              "COMMUNICATION          1456\n",
              "DATING                 1394\n",
              "PERSONALIZATION        1354\n",
              "SOCIAL                 1138\n",
              "LIFESTYLE              1127\n",
              "SHOPPING               1080\n",
              "NEWS_AND_MAGAZINES     1052\n",
              "BUSINESS               1016\n",
              "ENTERTAINMENT           864\n",
              "BOOKS_AND_REFERENCE     793\n",
              "EDUCATION               770\n",
              "FOOD_AND_DRINK          698\n",
              "HOUSE_AND_HOME          471\n",
              "VIDEO_PLAYERS           448\n",
              "LIBRARIES_AND_DEMO      366\n",
              "ART_AND_DESIGN          344\n",
              "AUTO_AND_VEHICLES       315\n",
              "MAPS_AND_NAVIGATION     292\n",
              "WEATHER                 262\n",
              "PARENTING               261\n",
              "BEAUTY                  237\n",
              "EVENTS                  189\n",
              "COMICS                  119\n",
              "Name: Category, dtype: int64"
            ]
          },
          "metadata": {},
          "execution_count": 274
        }
      ]
    },
    {
      "cell_type": "code",
      "source": [
        "# Plotting the number of each category\n",
        "plt.figure(figsize=(16,10))\n",
        "df['Category'].value_counts().plot(kind='barh');\n",
        "plt.xlabel('No. of counts------->',fontsize=15)\n",
        "plt.ylabel('App Category-------->',fontsize=15)"
      ],
      "metadata": {
        "colab": {
          "base_uri": "https://localhost:8080/",
          "height": 744
        },
        "id": "ppJzaYH1dHgY",
        "outputId": "9514a2b3-eb00-428a-faef-85c364557a18"
      },
      "execution_count": 275,
      "outputs": [
        {
          "output_type": "execute_result",
          "data": {
            "text/plain": [
              "Text(0, 0.5, 'App Category-------->')"
            ]
          },
          "metadata": {},
          "execution_count": 275
        },
        {
          "output_type": "display_data",
          "data": {
            "text/plain": [
              "<Figure size 1600x1000 with 1 Axes>"
            ],
            "image/png": "[encoded data removed]"
          },
          "metadata": {}
        }
      ]
    },
    {
      "cell_type": "markdown",
      "source": [
        "## Data Manipulation"
      ],
      "metadata": {
        "id": "oGrVIo2OabL2"
      }
    },
    {
      "cell_type": "markdown",
      "source": [
        "### Last Updated"
      ],
      "metadata": {
        "id": "TFWBR4oYdk1b"
      }
    },
    {
      "cell_type": "code",
      "source": [
        "# Converting Last Updated columns into datetime format\n",
        "df['Last Updated']=pd.to_datetime(df['Last Updated'],format='%B %d, %Y')"
      ],
      "metadata": {
        "id": "pepmR1tRag-u"
      },
      "execution_count": 276,
      "outputs": []
    },
    {
      "cell_type": "markdown",
      "source": [
        "### Reviews"
      ],
      "metadata": {
        "id": "ch5WvVlidtjj"
      }
    },
    {
      "cell_type": "code",
      "source": [
        "# Converting the data type of reviews from object type to int type\n",
        "df['Reviews']=df['Reviews'].apply(lambda x:int(x))\n",
        "df['Reviews']"
      ],
      "metadata": {
        "colab": {
          "base_uri": "https://localhost:8080/"
        },
        "id": "LvTq3-I0bI0h",
        "outputId": "f426569c-9d85-443a-810d-9f9d36690e7e"
      },
      "execution_count": 277,
      "outputs": [
        {
          "output_type": "execute_result",
          "data": {
            "text/plain": [
              "0           159\n",
              "1           967\n",
              "2           967\n",
              "3           967\n",
              "4           967\n",
              "          ...  \n",
              "45407        38\n",
              "45408         4\n",
              "45409         3\n",
              "45410       114\n",
              "45411    398307\n",
              "Name: Reviews, Length: 45412, dtype: int64"
            ]
          },
          "metadata": {},
          "execution_count": 277
        }
      ]
    },
    {
      "cell_type": "code",
      "source": [
        "# Sorting reviews columns\n",
        "df.sort_values(by=['Size'],ascending=False,inplace=True)\n",
        "df.head()"
      ],
      "metadata": {
        "colab": {
          "base_uri": "https://localhost:8080/",
          "height": 478
        },
        "id": "ZavoLIn3eU5V",
        "outputId": "4851608e-1226-475e-aef8-39bf261e1cb1"
      },
      "execution_count": 278,
      "outputs": [
        {
          "output_type": "execute_result",
          "data": {
            "text/plain": [
              "                                                     App             Category  \\\n",
              "8667                                  Domino's Pizza USA       FOOD_AND_DRINK   \n",
              "10048                      Google Fit - Fitness Tracking   HEALTH_AND_FITNESS   \n",
              "41016  Dictionary.com: Find Definitions for English W...  BOOKS_AND_REFERENCE   \n",
              "41020                                  Zalo – Video Call        COMMUNICATION   \n",
              "10052                     Sports Tracker Running Cycling   HEALTH_AND_FITNESS   \n",
              "\n",
              "       Rating  Reviews                Size     Installs  Type Price  \\\n",
              "8667      4.7  1032935  Varies with device  10,000,000+  Free     0   \n",
              "10048     3.9   249855  Varies with device  10,000,000+  Free     0   \n",
              "41016     4.6   899010  Varies with device  10,000,000+  Free     0   \n",
              "41020     4.2  1042170  Varies with device  50,000,000+  Free     0   \n",
              "10052     4.5   190247  Varies with device   5,000,000+  Free     0   \n",
              "\n",
              "      Content Rating             Genres Last Updated         Current Ver  \\\n",
              "8667        Everyone       Food & Drink   2018-07-20  Varies with device   \n",
              "10048       Everyone   Health & Fitness   2018-07-24  Varies with device   \n",
              "41016       Everyone  Books & Reference   2018-07-30  Varies with device   \n",
              "41020       Everyone      Communication   2018-07-27  Varies with device   \n",
              "10052       Everyone   Health & Fitness   2018-08-03  Varies with device   \n",
              "\n",
              "              Android Ver  Sentiment_Polarity  Sentiment_Subjectivity  \n",
              "8667   Varies with device            0.314286                0.828571  \n",
              "10048  Varies with device            0.700000                0.600000  \n",
              "41016  Varies with device            0.130000                0.509091  \n",
              "41020  Varies with device            0.130000                0.509091  \n",
              "10052  Varies with device            0.130000                0.509091  "
            ],
            "text/html": [
              "\n",
              "  <div id=\"df-e3c28b43-7ba3-4ada-ab8b-b3a4b31e0815\">\n",
              "    <div class=\"colab-df-container\">\n",
              "      <div>\n",
              "<style scoped>\n",
              "    .dataframe tbody tr th:only-of-type {\n",
              "        vertical-align: middle;\n",
              "    }\n",
              "\n",
              "    .dataframe tbody tr th {\n",
              "        vertical-align: top;\n",
              "    }\n",
              "\n",
              "    .dataframe thead th {\n",
              "        text-align: right;\n",
              "    }\n",
              "</style>\n",
              "<table border=\"1\" class=\"dataframe\">\n",
              "  <thead>\n",
              "    <tr style=\"text-align: right;\">\n",
              "      <th></th>\n",
              "      <th>App</th>\n",
              "      <th>Category</th>\n",
              "      <th>Rating</th>\n",
              "      <th>Reviews</th>\n",
              "      <th>Size</th>\n",
              "      <th>Installs</th>\n",
              "      <th>Type</th>\n",
              "      <th>Price</th>\n",
              "      <th>Content Rating</th>\n",
              "      <th>Genres</th>\n",
              "      <th>Last Updated</th>\n",
              "      <th>Current Ver</th>\n",
              "      <th>Android Ver</th>\n",
              "      <th>Sentiment_Polarity</th>\n",
              "      <th>Sentiment_Subjectivity</th>\n",
              "    </tr>\n",
              "  </thead>\n",
              "  <tbody>\n",
              "    <tr>\n",
              "      <th>8667</th>\n",
              "      <td>Domino's Pizza USA</td>\n",
              "      <td>FOOD_AND_DRINK</td>\n",
              "      <td>4.7</td>\n",
              "      <td>1032935</td>\n",
              "      <td>Varies with device</td>\n",
              "      <td>10,000,000+</td>\n",
              "      <td>Free</td>\n",
              "      <td>0</td>\n",
              "      <td>Everyone</td>\n",
              "      <td>Food &amp; Drink</td>\n",
              "      <td>2018-07-20</td>\n",
              "      <td>Varies with device</td>\n",
              "      <td>Varies with device</td>\n",
              "      <td>0.314286</td>\n",
              "      <td>0.828571</td>\n",
              "    </tr>\n",
              "    <tr>\n",
              "      <th>10048</th>\n",
              "      <td>Google Fit - Fitness Tracking</td>\n",
              "      <td>HEALTH_AND_FITNESS</td>\n",
              "      <td>3.9</td>\n",
              "      <td>249855</td>\n",
              "      <td>Varies with device</td>\n",
              "      <td>10,000,000+</td>\n",
              "      <td>Free</td>\n",
              "      <td>0</td>\n",
              "      <td>Everyone</td>\n",
              "      <td>Health &amp; Fitness</td>\n",
              "      <td>2018-07-24</td>\n",
              "      <td>Varies with device</td>\n",
              "      <td>Varies with device</td>\n",
              "      <td>0.700000</td>\n",
              "      <td>0.600000</td>\n",
              "    </tr>\n",
              "    <tr>\n",
              "      <th>41016</th>\n",
              "      <td>Dictionary.com: Find Definitions for English W...</td>\n",
              "      <td>BOOKS_AND_REFERENCE</td>\n",
              "      <td>4.6</td>\n",
              "      <td>899010</td>\n",
              "      <td>Varies with device</td>\n",
              "      <td>10,000,000+</td>\n",
              "      <td>Free</td>\n",
              "      <td>0</td>\n",
              "      <td>Everyone</td>\n",
              "      <td>Books &amp; Reference</td>\n",
              "      <td>2018-07-30</td>\n",
              "      <td>Varies with device</td>\n",
              "      <td>Varies with device</td>\n",
              "      <td>0.130000</td>\n",
              "      <td>0.509091</td>\n",
              "    </tr>\n",
              "    <tr>\n",
              "      <th>41020</th>\n",
              "      <td>Zalo – Video Call</td>\n",
              "      <td>COMMUNICATION</td>\n",
              "      <td>4.2</td>\n",
              "      <td>1042170</td>\n",
              "      <td>Varies with device</td>\n",
              "      <td>50,000,000+</td>\n",
              "      <td>Free</td>\n",
              "      <td>0</td>\n",
              "      <td>Everyone</td>\n",
              "      <td>Communication</td>\n",
              "      <td>2018-07-27</td>\n",
              "      <td>Varies with device</td>\n",
              "      <td>Varies with device</td>\n",
              "      <td>0.130000</td>\n",
              "      <td>0.509091</td>\n",
              "    </tr>\n",
              "    <tr>\n",
              "      <th>10052</th>\n",
              "      <td>Sports Tracker Running Cycling</td>\n",
              "      <td>HEALTH_AND_FITNESS</td>\n",
              "      <td>4.5</td>\n",
              "      <td>190247</td>\n",
              "      <td>Varies with device</td>\n",
              "      <td>5,000,000+</td>\n",
              "      <td>Free</td>\n",
              "      <td>0</td>\n",
              "      <td>Everyone</td>\n",
              "      <td>Health &amp; Fitness</td>\n",
              "      <td>2018-08-03</td>\n",
              "      <td>Varies with device</td>\n",
              "      <td>Varies with device</td>\n",
              "      <td>0.130000</td>\n",
              "      <td>0.509091</td>\n",
              "    </tr>\n",
              "  </tbody>\n",
              "</table>\n",
              "</div>\n",
              "      <button class=\"colab-df-convert\" onclick=\"convertToInteractive('df-e3c28b43-7ba3-4ada-ab8b-b3a4b31e0815')\"\n",
              "              title=\"Convert this dataframe to an interactive table.\"\n",
              "              style=\"display:none;\">\n",
              "        \n",
              "  <svg xmlns=\"http://www.w3.org/2000/svg\" height=\"24px\"viewBox=\"0 0 24 24\"\n",
              "       width=\"24px\">\n",
              "    <path d=\"M0 0h24v24H0V0z\" fill=\"none\"/>\n",
              "    <path d=\"M18.56 5.44l.94 2.06.94-2.06 2.06-.94-2.06-.94-.94-2.06-.94 2.06-2.06.94zm-11 1L8.5 8.5l.94-2.06 2.06-.94-2.06-.94L8.5 2.5l-.94 2.06-2.06.94zm10 10l.94 2.06.94-2.06 2.06-.94-2.06-.94-.94-2.06-.94 2.06-2.06.94z\"/><path d=\"M17.41 7.96l-1.37-1.37c-.4-.4-.92-.59-1.43-.59-.52 0-1.04.2-1.43.59L10.3 9.45l-7.72 7.72c-.78.78-.78 2.05 0 2.83L4 21.41c.39.39.9.59 1.41.59.51 0 1.02-.2 1.41-.59l7.78-7.78 2.81-2.81c.8-.78.8-2.07 0-2.86zM5.41 20L4 18.59l7.72-7.72 1.47 1.35L5.41 20z\"/>\n",
              "  </svg>\n",
              "      </button>\n",
              "      \n",
              "  <style>\n",
              "    .colab-df-container {\n",
              "      display:flex;\n",
              "      flex-wrap:wrap;\n",
              "      gap: 12px;\n",
              "    }\n",
              "\n",
              "    .colab-df-convert {\n",
              "      background-color: #E8F0FE;\n",
              "      border: none;\n",
              "      border-radius: 50%;\n",
              "      cursor: pointer;\n",
              "      display: none;\n",
              "      fill: #1967D2;\n",
              "      height: 32px;\n",
              "      padding: 0 0 0 0;\n",
              "      width: 32px;\n",
              "    }\n",
              "\n",
              "    .colab-df-convert:hover {\n",
              "      background-color: #E2EBFA;\n",
              "      box-shadow: 0px 1px 2px rgba(60, 64, 67, 0.3), 0px 1px 3px 1px rgba(60, 64, 67, 0.15);\n",
              "      fill: #174EA6;\n",
              "    }\n",
              "\n",
              "    [theme=dark] .colab-df-convert {\n",
              "      background-color: #3B4455;\n",
              "      fill: #D2E3FC;\n",
              "    }\n",
              "\n",
              "    [theme=dark] .colab-df-convert:hover {\n",
              "      background-color: #434B5C;\n",
              "      box-shadow: 0px 1px 3px 1px rgba(0, 0, 0, 0.15);\n",
              "      filter: drop-shadow(0px 1px 2px rgba(0, 0, 0, 0.3));\n",
              "      fill: #FFFFFF;\n",
              "    }\n",
              "  </style>\n",
              "\n",
              "      <script>\n",
              "        const buttonEl =\n",
              "          document.querySelector('#df-e3c28b43-7ba3-4ada-ab8b-b3a4b31e0815 button.colab-df-convert');\n",
              "        buttonEl.style.display =\n",
              "          google.colab.kernel.accessAllowed ? 'block' : 'none';\n",
              "\n",
              "        async function convertToInteractive(key) {\n",
              "          const element = document.querySelector('#df-e3c28b43-7ba3-4ada-ab8b-b3a4b31e0815');\n",
              "          const dataTable =\n",
              "            await google.colab.kernel.invokeFunction('convertToInteractive',\n",
              "                                                     [key], {});\n",
              "          if (!dataTable) return;\n",
              "\n",
              "          const docLinkHtml = 'Like what you see? Visit the ' +\n",
              "            '<a target=\"_blank\" href=https://colab.research.google.com/notebooks/data_table.ipynb>data table notebook</a>'\n",
              "            + ' to learn more about interactive tables.';\n",
              "          element.innerHTML = '';\n",
              "          dataTable['output_type'] = 'display_data';\n",
              "          await google.colab.output.renderOutput(dataTable, element);\n",
              "          const docLink = document.createElement('div');\n",
              "          docLink.innerHTML = docLinkHtml;\n",
              "          element.appendChild(docLink);\n",
              "        }\n",
              "      </script>\n",
              "    </div>\n",
              "  </div>\n",
              "  "
            ]
          },
          "metadata": {},
          "execution_count": 278
        }
      ]
    },
    {
      "cell_type": "markdown",
      "source": [
        "### Size"
      ],
      "metadata": {
        "id": "aJT_wf6jd_YE"
      }
    },
    {
      "cell_type": "code",
      "source": [
        "# Converting the data type of size from object to int\n",
        "print(df['Size'])\n",
        "print()\n",
        "# Checking the number of rows with size having values 'Values with Device'\n",
        "len(df[df['Size']==\"Varies with device\"])"
      ],
      "metadata": {
        "colab": {
          "base_uri": "https://localhost:8080/"
        },
        "id": "V290rFsJqYFu",
        "outputId": "8441de96-4ee3-4048-b7fd-bde6d5d66b3f"
      },
      "execution_count": 279,
      "outputs": [
        {
          "output_type": "stream",
          "name": "stdout",
          "text": [
            "8667     Varies with device\n",
            "10048    Varies with device\n",
            "41016    Varies with device\n",
            "41020    Varies with device\n",
            "10052    Varies with device\n",
            "                ...        \n",
            "41758                  1.0M\n",
            "45379                  1.0M\n",
            "41164                  1.0M\n",
            "42735                  1.0M\n",
            "44572                  1.0M\n",
            "Name: Size, Length: 45412, dtype: object\n",
            "\n"
          ]
        },
        {
          "output_type": "execute_result",
          "data": {
            "text/plain": [
              "13637"
            ]
          },
          "metadata": {},
          "execution_count": 279
        }
      ]
    },
    {
      "cell_type": "code",
      "source": [
        "# replace 'Varies with device' with 'nan' value\n",
        "df[\"Size\"].replace('Varies with device',np.nan,inplace=True)\n",
        "df['Size']\n",
        "len(df[df['Size']==np.nan])\n",
        "len(df[df['Size']==\"Varies with device\"])"
      ],
      "metadata": {
        "colab": {
          "base_uri": "https://localhost:8080/"
        },
        "id": "xjFHDU48sOEK",
        "outputId": "fc16a4c1-be87-4cb3-df66-3f80e7e5befb"
      },
      "execution_count": 280,
      "outputs": [
        {
          "output_type": "execute_result",
          "data": {
            "text/plain": [
              "0"
            ]
          },
          "metadata": {},
          "execution_count": 280
        }
      ]
    },
    {
      "cell_type": "code",
      "source": [
        "# Converting size which ends with K and M\n",
        "def convert_size(size):\n",
        "  if size is not np.nan:\n",
        "    if 'k' in size:\n",
        "      return float(size.replace('k',''))*1000\n",
        "    if 'M' in size:\n",
        "      return float(size.replace('M',''))*1000000\n",
        "\n",
        "# apply convert size\n",
        "df['Size']=df[\"Size\"].apply(convert_size)"
      ],
      "metadata": {
        "id": "MN4xRAJa0r2b"
      },
      "execution_count": 281,
      "outputs": []
    },
    {
      "cell_type": "code",
      "source": [
        "# set NaN value to mean\n",
        "df['Size'].fillna(df['Size'].mean(),inplace=True)\n",
        "len(df[df['Size']==np.nan])"
      ],
      "metadata": {
        "colab": {
          "base_uri": "https://localhost:8080/"
        },
        "id": "4AOcSdj-2GS-",
        "outputId": "f6a80df6-26d1-4b06-c5be-d55d2c559357"
      },
      "execution_count": 282,
      "outputs": [
        {
          "output_type": "execute_result",
          "data": {
            "text/plain": [
              "0"
            ]
          },
          "metadata": {},
          "execution_count": 282
        }
      ]
    },
    {
      "cell_type": "code",
      "source": [
        "# Find out 20 most review app\n",
        "df.sort_values(by=['Size'],ascending=False,inplace=True)\n",
        "df.head()"
      ],
      "metadata": {
        "colab": {
          "base_uri": "https://localhost:8080/",
          "height": 444
        },
        "id": "6DvnPCzdft5M",
        "outputId": "55388a77-e10e-4312-9420-d6b68d7efd53"
      },
      "execution_count": 283,
      "outputs": [
        {
          "output_type": "execute_result",
          "data": {
            "text/plain": [
              "                                     App Category  Rating  Reviews  \\\n",
              "40125                    Ultimate Tennis   SPORTS     4.3   183004   \n",
              "18971             Hungry Shark Evolution     GAME     4.5  6074334   \n",
              "18973             Hungry Shark Evolution     GAME     4.5  6071542   \n",
              "19421  Mini Golf King - Multiplayer Game     GAME     4.5   531458   \n",
              "42082                    SimCity BuildIt   FAMILY     4.5  4218587   \n",
              "\n",
              "              Size      Installs  Type Price Content Rating      Genres  \\\n",
              "40125  100000000.0   10,000,000+  Free     0       Everyone      Sports   \n",
              "18971  100000000.0  100,000,000+  Free     0           Teen      Arcade   \n",
              "18973  100000000.0  100,000,000+  Free     0           Teen      Arcade   \n",
              "19421  100000000.0    5,000,000+  Free     0       Everyone      Sports   \n",
              "42082  100000000.0   50,000,000+  Free     0   Everyone 10+  Simulation   \n",
              "\n",
              "      Last Updated   Current Ver   Android Ver  Sentiment_Polarity  \\\n",
              "40125   2018-07-19     2.29.3118  4.0.3 and up                0.13   \n",
              "18971   2018-07-25         6.0.0    4.1 and up                0.13   \n",
              "18973   2018-07-25         6.0.0    4.1 and up                0.13   \n",
              "19421   2018-07-20        3.04.1  4.0.3 and up                0.13   \n",
              "42082   2018-06-19  1.23.3.75024    4.0 and up                0.13   \n",
              "\n",
              "       Sentiment_Subjectivity  \n",
              "40125                0.509091  \n",
              "18971                0.509091  \n",
              "18973                0.509091  \n",
              "19421                0.509091  \n",
              "42082                0.509091  "
            ],
            "text/html": [
              "\n",
              "  <div id=\"df-c21b3ee0-7776-42d0-9319-fad18dd1381c\">\n",
              "    <div class=\"colab-df-container\">\n",
              "      <div>\n",
              "<style scoped>\n",
              "    .dataframe tbody tr th:only-of-type {\n",
              "        vertical-align: middle;\n",
              "    }\n",
              "\n",
              "    .dataframe tbody tr th {\n",
              "        vertical-align: top;\n",
              "    }\n",
              "\n",
              "    .dataframe thead th {\n",
              "        text-align: right;\n",
              "    }\n",
              "</style>\n",
              "<table border=\"1\" class=\"dataframe\">\n",
              "  <thead>\n",
              "    <tr style=\"text-align: right;\">\n",
              "      <th></th>\n",
              "      <th>App</th>\n",
              "      <th>Category</th>\n",
              "      <th>Rating</th>\n",
              "      <th>Reviews</th>\n",
              "      <th>Size</th>\n",
              "      <th>Installs</th>\n",
              "      <th>Type</th>\n",
              "      <th>Price</th>\n",
              "      <th>Content Rating</th>\n",
              "      <th>Genres</th>\n",
              "      <th>Last Updated</th>\n",
              "      <th>Current Ver</th>\n",
              "      <th>Android Ver</th>\n",
              "      <th>Sentiment_Polarity</th>\n",
              "      <th>Sentiment_Subjectivity</th>\n",
              "    </tr>\n",
              "  </thead>\n",
              "  <tbody>\n",
              "    <tr>\n",
              "      <th>40125</th>\n",
              "      <td>Ultimate Tennis</td>\n",
              "      <td>SPORTS</td>\n",
              "      <td>4.3</td>\n",
              "      <td>183004</td>\n",
              "      <td>100000000.0</td>\n",
              "      <td>10,000,000+</td>\n",
              "      <td>Free</td>\n",
              "      <td>0</td>\n",
              "      <td>Everyone</td>\n",
              "      <td>Sports</td>\n",
              "      <td>2018-07-19</td>\n",
              "      <td>2.29.3118</td>\n",
              "      <td>4.0.3 and up</td>\n",
              "      <td>0.13</td>\n",
              "      <td>0.509091</td>\n",
              "    </tr>\n",
              "    <tr>\n",
              "      <th>18971</th>\n",
              "      <td>Hungry Shark Evolution</td>\n",
              "      <td>GAME</td>\n",
              "      <td>4.5</td>\n",
              "      <td>6074334</td>\n",
              "      <td>100000000.0</td>\n",
              "      <td>100,000,000+</td>\n",
              "      <td>Free</td>\n",
              "      <td>0</td>\n",
              "      <td>Teen</td>\n",
              "      <td>Arcade</td>\n",
              "      <td>2018-07-25</td>\n",
              "      <td>6.0.0</td>\n",
              "      <td>4.1 and up</td>\n",
              "      <td>0.13</td>\n",
              "      <td>0.509091</td>\n",
              "    </tr>\n",
              "    <tr>\n",
              "      <th>18973</th>\n",
              "      <td>Hungry Shark Evolution</td>\n",
              "      <td>GAME</td>\n",
              "      <td>4.5</td>\n",
              "      <td>6071542</td>\n",
              "      <td>100000000.0</td>\n",
              "      <td>100,000,000+</td>\n",
              "      <td>Free</td>\n",
              "      <td>0</td>\n",
              "      <td>Teen</td>\n",
              "      <td>Arcade</td>\n",
              "      <td>2018-07-25</td>\n",
              "      <td>6.0.0</td>\n",
              "      <td>4.1 and up</td>\n",
              "      <td>0.13</td>\n",
              "      <td>0.509091</td>\n",
              "    </tr>\n",
              "    <tr>\n",
              "      <th>19421</th>\n",
              "      <td>Mini Golf King - Multiplayer Game</td>\n",
              "      <td>GAME</td>\n",
              "      <td>4.5</td>\n",
              "      <td>531458</td>\n",
              "      <td>100000000.0</td>\n",
              "      <td>5,000,000+</td>\n",
              "      <td>Free</td>\n",
              "      <td>0</td>\n",
              "      <td>Everyone</td>\n",
              "      <td>Sports</td>\n",
              "      <td>2018-07-20</td>\n",
              "      <td>3.04.1</td>\n",
              "      <td>4.0.3 and up</td>\n",
              "      <td>0.13</td>\n",
              "      <td>0.509091</td>\n",
              "    </tr>\n",
              "    <tr>\n",
              "      <th>42082</th>\n",
              "      <td>SimCity BuildIt</td>\n",
              "      <td>FAMILY</td>\n",
              "      <td>4.5</td>\n",
              "      <td>4218587</td>\n",
              "      <td>100000000.0</td>\n",
              "      <td>50,000,000+</td>\n",
              "      <td>Free</td>\n",
              "      <td>0</td>\n",
              "      <td>Everyone 10+</td>\n",
              "      <td>Simulation</td>\n",
              "      <td>2018-06-19</td>\n",
              "      <td>1.23.3.75024</td>\n",
              "      <td>4.0 and up</td>\n",
              "      <td>0.13</td>\n",
              "      <td>0.509091</td>\n",
              "    </tr>\n",
              "  </tbody>\n",
              "</table>\n",
              "</div>\n",
              "      <button class=\"colab-df-convert\" onclick=\"convertToInteractive('df-c21b3ee0-7776-42d0-9319-fad18dd1381c')\"\n",
              "              title=\"Convert this dataframe to an interactive table.\"\n",
              "              style=\"display:none;\">\n",
              "        \n",
              "  <svg xmlns=\"http://www.w3.org/2000/svg\" height=\"24px\"viewBox=\"0 0 24 24\"\n",
              "       width=\"24px\">\n",
              "    <path d=\"M0 0h24v24H0V0z\" fill=\"none\"/>\n",
              "    <path d=\"M18.56 5.44l.94 2.06.94-2.06 2.06-.94-2.06-.94-.94-2.06-.94 2.06-2.06.94zm-11 1L8.5 8.5l.94-2.06 2.06-.94-2.06-.94L8.5 2.5l-.94 2.06-2.06.94zm10 10l.94 2.06.94-2.06 2.06-.94-2.06-.94-.94-2.06-.94 2.06-2.06.94z\"/><path d=\"M17.41 7.96l-1.37-1.37c-.4-.4-.92-.59-1.43-.59-.52 0-1.04.2-1.43.59L10.3 9.45l-7.72 7.72c-.78.78-.78 2.05 0 2.83L4 21.41c.39.39.9.59 1.41.59.51 0 1.02-.2 1.41-.59l7.78-7.78 2.81-2.81c.8-.78.8-2.07 0-2.86zM5.41 20L4 18.59l7.72-7.72 1.47 1.35L5.41 20z\"/>\n",
              "  </svg>\n",
              "      </button>\n",
              "      \n",
              "  <style>\n",
              "    .colab-df-container {\n",
              "      display:flex;\n",
              "      flex-wrap:wrap;\n",
              "      gap: 12px;\n",
              "    }\n",
              "\n",
              "    .colab-df-convert {\n",
              "      background-color: #E8F0FE;\n",
              "      border: none;\n",
              "      border-radius: 50%;\n",
              "      cursor: pointer;\n",
              "      display: none;\n",
              "      fill: #1967D2;\n",
              "      height: 32px;\n",
              "      padding: 0 0 0 0;\n",
              "      width: 32px;\n",
              "    }\n",
              "\n",
              "    .colab-df-convert:hover {\n",
              "      background-color: #E2EBFA;\n",
              "      box-shadow: 0px 1px 2px rgba(60, 64, 67, 0.3), 0px 1px 3px 1px rgba(60, 64, 67, 0.15);\n",
              "      fill: #174EA6;\n",
              "    }\n",
              "\n",
              "    [theme=dark] .colab-df-convert {\n",
              "      background-color: #3B4455;\n",
              "      fill: #D2E3FC;\n",
              "    }\n",
              "\n",
              "    [theme=dark] .colab-df-convert:hover {\n",
              "      background-color: #434B5C;\n",
              "      box-shadow: 0px 1px 3px 1px rgba(0, 0, 0, 0.15);\n",
              "      filter: drop-shadow(0px 1px 2px rgba(0, 0, 0, 0.3));\n",
              "      fill: #FFFFFF;\n",
              "    }\n",
              "  </style>\n",
              "\n",
              "      <script>\n",
              "        const buttonEl =\n",
              "          document.querySelector('#df-c21b3ee0-7776-42d0-9319-fad18dd1381c button.colab-df-convert');\n",
              "        buttonEl.style.display =\n",
              "          google.colab.kernel.accessAllowed ? 'block' : 'none';\n",
              "\n",
              "        async function convertToInteractive(key) {\n",
              "          const element = document.querySelector('#df-c21b3ee0-7776-42d0-9319-fad18dd1381c');\n",
              "          const dataTable =\n",
              "            await google.colab.kernel.invokeFunction('convertToInteractive',\n",
              "                                                     [key], {});\n",
              "          if (!dataTable) return;\n",
              "\n",
              "          const docLinkHtml = 'Like what you see? Visit the ' +\n",
              "            '<a target=\"_blank\" href=https://colab.research.google.com/notebooks/data_table.ipynb>data table notebook</a>'\n",
              "            + ' to learn more about interactive tables.';\n",
              "          element.innerHTML = '';\n",
              "          dataTable['output_type'] = 'display_data';\n",
              "          await google.colab.output.renderOutput(dataTable, element);\n",
              "          const docLink = document.createElement('div');\n",
              "          docLink.innerHTML = docLinkHtml;\n",
              "          element.appendChild(docLink);\n",
              "        }\n",
              "      </script>\n",
              "    </div>\n",
              "  </div>\n",
              "  "
            ]
          },
          "metadata": {},
          "execution_count": 283
        }
      ]
    },
    {
      "cell_type": "markdown",
      "source": [
        "### Install"
      ],
      "metadata": {
        "id": "6M_Qr0vrfYUC"
      }
    },
    {
      "cell_type": "code",
      "source": [
        "df['Installs'].head()"
      ],
      "metadata": {
        "colab": {
          "base_uri": "https://localhost:8080/"
        },
        "id": "N1BJhec5fbzR",
        "outputId": "fe26b529-647b-461f-b977-7c252cdda92a"
      },
      "execution_count": 284,
      "outputs": [
        {
          "output_type": "execute_result",
          "data": {
            "text/plain": [
              "40125     10,000,000+\n",
              "18971    100,000,000+\n",
              "18973    100,000,000+\n",
              "19421      5,000,000+\n",
              "42082     50,000,000+\n",
              "Name: Installs, dtype: object"
            ]
          },
          "metadata": {},
          "execution_count": 284
        }
      ]
    },
    {
      "cell_type": "code",
      "source": [
        "# Removing \"+\" & \",\" symbol from the digit\n",
        "# Converting the data type from object to integer\n",
        "\n",
        "def convert_install(num):\n",
        "  return int(num.replace('+','').replace(',',''))\n",
        "\n",
        "df['Installs']=df['Installs'].apply(convert_install)\n",
        "df.head()\n"
      ],
      "metadata": {
        "colab": {
          "base_uri": "https://localhost:8080/",
          "height": 444
        },
        "id": "FSnlnkw3gGTU",
        "outputId": "946d74ac-14ff-463e-fe29-37788fc55e4e"
      },
      "execution_count": 285,
      "outputs": [
        {
          "output_type": "execute_result",
          "data": {
            "text/plain": [
              "                                     App Category  Rating  Reviews  \\\n",
              "40125                    Ultimate Tennis   SPORTS     4.3   183004   \n",
              "18971             Hungry Shark Evolution     GAME     4.5  6074334   \n",
              "18973             Hungry Shark Evolution     GAME     4.5  6071542   \n",
              "19421  Mini Golf King - Multiplayer Game     GAME     4.5   531458   \n",
              "42082                    SimCity BuildIt   FAMILY     4.5  4218587   \n",
              "\n",
              "              Size   Installs  Type Price Content Rating      Genres  \\\n",
              "40125  100000000.0   10000000  Free     0       Everyone      Sports   \n",
              "18971  100000000.0  100000000  Free     0           Teen      Arcade   \n",
              "18973  100000000.0  100000000  Free     0           Teen      Arcade   \n",
              "19421  100000000.0    5000000  Free     0       Everyone      Sports   \n",
              "42082  100000000.0   50000000  Free     0   Everyone 10+  Simulation   \n",
              "\n",
              "      Last Updated   Current Ver   Android Ver  Sentiment_Polarity  \\\n",
              "40125   2018-07-19     2.29.3118  4.0.3 and up                0.13   \n",
              "18971   2018-07-25         6.0.0    4.1 and up                0.13   \n",
              "18973   2018-07-25         6.0.0    4.1 and up                0.13   \n",
              "19421   2018-07-20        3.04.1  4.0.3 and up                0.13   \n",
              "42082   2018-06-19  1.23.3.75024    4.0 and up                0.13   \n",
              "\n",
              "       Sentiment_Subjectivity  \n",
              "40125                0.509091  \n",
              "18971                0.509091  \n",
              "18973                0.509091  \n",
              "19421                0.509091  \n",
              "42082                0.509091  "
            ],
            "text/html": [
              "\n",
              "  <div id=\"df-aa36c632-2e8f-4d80-a8b3-867df668560a\">\n",
              "    <div class=\"colab-df-container\">\n",
              "      <div>\n",
              "<style scoped>\n",
              "    .dataframe tbody tr th:only-of-type {\n",
              "        vertical-align: middle;\n",
              "    }\n",
              "\n",
              "    .dataframe tbody tr th {\n",
              "        vertical-align: top;\n",
              "    }\n",
              "\n",
              "    .dataframe thead th {\n",
              "        text-align: right;\n",
              "    }\n",
              "</style>\n",
              "<table border=\"1\" class=\"dataframe\">\n",
              "  <thead>\n",
              "    <tr style=\"text-align: right;\">\n",
              "      <th></th>\n",
              "      <th>App</th>\n",
              "      <th>Category</th>\n",
              "      <th>Rating</th>\n",
              "      <th>Reviews</th>\n",
              "      <th>Size</th>\n",
              "      <th>Installs</th>\n",
              "      <th>Type</th>\n",
              "      <th>Price</th>\n",
              "      <th>Content Rating</th>\n",
              "      <th>Genres</th>\n",
              "      <th>Last Updated</th>\n",
              "      <th>Current Ver</th>\n",
              "      <th>Android Ver</th>\n",
              "      <th>Sentiment_Polarity</th>\n",
              "      <th>Sentiment_Subjectivity</th>\n",
              "    </tr>\n",
              "  </thead>\n",
              "  <tbody>\n",
              "    <tr>\n",
              "      <th>40125</th>\n",
              "      <td>Ultimate Tennis</td>\n",
              "      <td>SPORTS</td>\n",
              "      <td>4.3</td>\n",
              "      <td>183004</td>\n",
              "      <td>100000000.0</td>\n",
              "      <td>10000000</td>\n",
              "      <td>Free</td>\n",
              "      <td>0</td>\n",
              "      <td>Everyone</td>\n",
              "      <td>Sports</td>\n",
              "      <td>2018-07-19</td>\n",
              "      <td>2.29.3118</td>\n",
              "      <td>4.0.3 and up</td>\n",
              "      <td>0.13</td>\n",
              "      <td>0.509091</td>\n",
              "    </tr>\n",
              "    <tr>\n",
              "      <th>18971</th>\n",
              "      <td>Hungry Shark Evolution</td>\n",
              "      <td>GAME</td>\n",
              "      <td>4.5</td>\n",
              "      <td>6074334</td>\n",
              "      <td>100000000.0</td>\n",
              "      <td>100000000</td>\n",
              "      <td>Free</td>\n",
              "      <td>0</td>\n",
              "      <td>Teen</td>\n",
              "      <td>Arcade</td>\n",
              "      <td>2018-07-25</td>\n",
              "      <td>6.0.0</td>\n",
              "      <td>4.1 and up</td>\n",
              "      <td>0.13</td>\n",
              "      <td>0.509091</td>\n",
              "    </tr>\n",
              "    <tr>\n",
              "      <th>18973</th>\n",
              "      <td>Hungry Shark Evolution</td>\n",
              "      <td>GAME</td>\n",
              "      <td>4.5</td>\n",
              "      <td>6071542</td>\n",
              "      <td>100000000.0</td>\n",
              "      <td>100000000</td>\n",
              "      <td>Free</td>\n",
              "      <td>0</td>\n",
              "      <td>Teen</td>\n",
              "      <td>Arcade</td>\n",
              "      <td>2018-07-25</td>\n",
              "      <td>6.0.0</td>\n",
              "      <td>4.1 and up</td>\n",
              "      <td>0.13</td>\n",
              "      <td>0.509091</td>\n",
              "    </tr>\n",
              "    <tr>\n",
              "      <th>19421</th>\n",
              "      <td>Mini Golf King - Multiplayer Game</td>\n",
              "      <td>GAME</td>\n",
              "      <td>4.5</td>\n",
              "      <td>531458</td>\n",
              "      <td>100000000.0</td>\n",
              "      <td>5000000</td>\n",
              "      <td>Free</td>\n",
              "      <td>0</td>\n",
              "      <td>Everyone</td>\n",
              "      <td>Sports</td>\n",
              "      <td>2018-07-20</td>\n",
              "      <td>3.04.1</td>\n",
              "      <td>4.0.3 and up</td>\n",
              "      <td>0.13</td>\n",
              "      <td>0.509091</td>\n",
              "    </tr>\n",
              "    <tr>\n",
              "      <th>42082</th>\n",
              "      <td>SimCity BuildIt</td>\n",
              "      <td>FAMILY</td>\n",
              "      <td>4.5</td>\n",
              "      <td>4218587</td>\n",
              "      <td>100000000.0</td>\n",
              "      <td>50000000</td>\n",
              "      <td>Free</td>\n",
              "      <td>0</td>\n",
              "      <td>Everyone 10+</td>\n",
              "      <td>Simulation</td>\n",
              "      <td>2018-06-19</td>\n",
              "      <td>1.23.3.75024</td>\n",
              "      <td>4.0 and up</td>\n",
              "      <td>0.13</td>\n",
              "      <td>0.509091</td>\n",
              "    </tr>\n",
              "  </tbody>\n",
              "</table>\n",
              "</div>\n",
              "      <button class=\"colab-df-convert\" onclick=\"convertToInteractive('df-aa36c632-2e8f-4d80-a8b3-867df668560a')\"\n",
              "              title=\"Convert this dataframe to an interactive table.\"\n",
              "              style=\"display:none;\">\n",
              "        \n",
              "  <svg xmlns=\"http://www.w3.org/2000/svg\" height=\"24px\"viewBox=\"0 0 24 24\"\n",
              "       width=\"24px\">\n",
              "    <path d=\"M0 0h24v24H0V0z\" fill=\"none\"/>\n",
              "    <path d=\"M18.56 5.44l.94 2.06.94-2.06 2.06-.94-2.06-.94-.94-2.06-.94 2.06-2.06.94zm-11 1L8.5 8.5l.94-2.06 2.06-.94-2.06-.94L8.5 2.5l-.94 2.06-2.06.94zm10 10l.94 2.06.94-2.06 2.06-.94-2.06-.94-.94-2.06-.94 2.06-2.06.94z\"/><path d=\"M17.41 7.96l-1.37-1.37c-.4-.4-.92-.59-1.43-.59-.52 0-1.04.2-1.43.59L10.3 9.45l-7.72 7.72c-.78.78-.78 2.05 0 2.83L4 21.41c.39.39.9.59 1.41.59.51 0 1.02-.2 1.41-.59l7.78-7.78 2.81-2.81c.8-.78.8-2.07 0-2.86zM5.41 20L4 18.59l7.72-7.72 1.47 1.35L5.41 20z\"/>\n",
              "  </svg>\n",
              "      </button>\n",
              "      \n",
              "  <style>\n",
              "    .colab-df-container {\n",
              "      display:flex;\n",
              "      flex-wrap:wrap;\n",
              "      gap: 12px;\n",
              "    }\n",
              "\n",
              "    .colab-df-convert {\n",
              "      background-color: #E8F0FE;\n",
              "      border: none;\n",
              "      border-radius: 50%;\n",
              "      cursor: pointer;\n",
              "      display: none;\n",
              "      fill: #1967D2;\n",
              "      height: 32px;\n",
              "      padding: 0 0 0 0;\n",
              "      width: 32px;\n",
              "    }\n",
              "\n",
              "    .colab-df-convert:hover {\n",
              "      background-color: #E2EBFA;\n",
              "      box-shadow: 0px 1px 2px rgba(60, 64, 67, 0.3), 0px 1px 3px 1px rgba(60, 64, 67, 0.15);\n",
              "      fill: #174EA6;\n",
              "    }\n",
              "\n",
              "    [theme=dark] .colab-df-convert {\n",
              "      background-color: #3B4455;\n",
              "      fill: #D2E3FC;\n",
              "    }\n",
              "\n",
              "    [theme=dark] .colab-df-convert:hover {\n",
              "      background-color: #434B5C;\n",
              "      box-shadow: 0px 1px 3px 1px rgba(0, 0, 0, 0.15);\n",
              "      filter: drop-shadow(0px 1px 2px rgba(0, 0, 0, 0.3));\n",
              "      fill: #FFFFFF;\n",
              "    }\n",
              "  </style>\n",
              "\n",
              "      <script>\n",
              "        const buttonEl =\n",
              "          document.querySelector('#df-aa36c632-2e8f-4d80-a8b3-867df668560a button.colab-df-convert');\n",
              "        buttonEl.style.display =\n",
              "          google.colab.kernel.accessAllowed ? 'block' : 'none';\n",
              "\n",
              "        async function convertToInteractive(key) {\n",
              "          const element = document.querySelector('#df-aa36c632-2e8f-4d80-a8b3-867df668560a');\n",
              "          const dataTable =\n",
              "            await google.colab.kernel.invokeFunction('convertToInteractive',\n",
              "                                                     [key], {});\n",
              "          if (!dataTable) return;\n",
              "\n",
              "          const docLinkHtml = 'Like what you see? Visit the ' +\n",
              "            '<a target=\"_blank\" href=https://colab.research.google.com/notebooks/data_table.ipynb>data table notebook</a>'\n",
              "            + ' to learn more about interactive tables.';\n",
              "          element.innerHTML = '';\n",
              "          dataTable['output_type'] = 'display_data';\n",
              "          await google.colab.output.renderOutput(dataTable, element);\n",
              "          const docLink = document.createElement('div');\n",
              "          docLink.innerHTML = docLinkHtml;\n",
              "          element.appendChild(docLink);\n",
              "        }\n",
              "      </script>\n",
              "    </div>\n",
              "  </div>\n",
              "  "
            ]
          },
          "metadata": {},
          "execution_count": 285
        }
      ]
    },
    {
      "cell_type": "markdown",
      "source": [
        "### Types"
      ],
      "metadata": {
        "id": "5Il1atlDj6jU"
      }
    },
    {
      "cell_type": "code",
      "source": [
        "df['Type'].unique()"
      ],
      "metadata": {
        "colab": {
          "base_uri": "https://localhost:8080/"
        },
        "id": "F_uU1NppkGIT",
        "outputId": "ff645226-4822-4f9b-e6ab-4efbddfc4be9"
      },
      "execution_count": 286,
      "outputs": [
        {
          "output_type": "execute_result",
          "data": {
            "text/plain": [
              "array(['Free', 'Paid'], dtype=object)"
            ]
          },
          "metadata": {},
          "execution_count": 286
        }
      ]
    },
    {
      "cell_type": "code",
      "source": [
        "df['Type'].value_counts()"
      ],
      "metadata": {
        "colab": {
          "base_uri": "https://localhost:8080/"
        },
        "id": "IbPxRs9RkSXC",
        "outputId": "ff6dc58b-019a-42a4-dc79-613ade1edc61"
      },
      "execution_count": 287,
      "outputs": [
        {
          "output_type": "execute_result",
          "data": {
            "text/plain": [
              "Free    44303\n",
              "Paid     1109\n",
              "Name: Type, dtype: int64"
            ]
          },
          "metadata": {},
          "execution_count": 287
        }
      ]
    },
    {
      "cell_type": "markdown",
      "source": [
        "### Price"
      ],
      "metadata": {
        "id": "CDddJQFZkjTW"
      }
    },
    {
      "cell_type": "code",
      "source": [
        "df['Price'].unique()"
      ],
      "metadata": {
        "colab": {
          "base_uri": "https://localhost:8080/"
        },
        "id": "2x1u4FgGkiQ5",
        "outputId": "4ac2009c-ef04-4e36-8dbc-c47192c55449"
      },
      "execution_count": 288,
      "outputs": [
        {
          "output_type": "execute_result",
          "data": {
            "text/plain": [
              "array(['0', '$0.99', '$15.99', '$2.99', '$29.99', '$7.49', '$4.77',\n",
              "       '$1.99', '$1.49', '$4.99', '$9.99', '$2.49', '$3.99', '$5.99',\n",
              "       '$33.99', '$4.49', '$24.99', '$19.40', '$4.60', '$14.99', '$6.99',\n",
              "       '$3.61', '$11.99', '$399.99', '$19.99', '$7.99', '$79.99', '$2.56',\n",
              "       '$12.99', '$4.59', '$3.90', '$5.49', '$3.95', '$3.49', '$2.50',\n",
              "       '$8.99', '$2.95', '$74.99', '$1.00', '$15.46', '$1.61', '$4.29',\n",
              "       '$10.00', '$17.99', '$6.49', '$39.99', '$4.85', '$28.99', '$19.90',\n",
              "       '$9.00', '$16.99', '$89.99', '$1.20', '$8.49', '$13.99', '$1.70',\n",
              "       '$46.99', '$1.59', '$400.00', '$1.75', '$109.99', '$3.88',\n",
              "       '$154.99', '$4.84', '$389.99', '$14.00', '$1.97', '$1.76',\n",
              "       '$200.00', '$10.99', '$379.99', '$3.28', '$299.99', '$1.50',\n",
              "       '$30.99', '$2.60', '$2.00', '$1.26', '$18.99', '$37.99', '$2.59',\n",
              "       '$25.99', '$3.08', '$1.96', '$394.99', '$3.02', '$2.90', '$3.04',\n",
              "       '$1.04', '$4.80', '$5.00', '$1.29'], dtype=object)"
            ]
          },
          "metadata": {},
          "execution_count": 288
        }
      ]
    },
    {
      "cell_type": "code",
      "source": [
        "# Removing '$' symbol before the prices and converting it to float value\n",
        "def convert_price(price):\n",
        "  return float(price.replace('$',''))\n",
        "\n",
        "df['Price']=df['Price'].apply(convert_price)"
      ],
      "metadata": {
        "id": "zZMQiDNGlLlL"
      },
      "execution_count": 289,
      "outputs": []
    },
    {
      "cell_type": "code",
      "source": [
        "# sorting dataframe by price\n",
        "df.sort_values(by=['Price'],ascending=False,inplace=True)\n",
        "df.head()\n"
      ],
      "metadata": {
        "colab": {
          "base_uri": "https://localhost:8080/",
          "height": 426
        },
        "id": "gIV5t0n6mnHY",
        "outputId": "e0ae4d2c-052d-470e-8ef3-24ef7fac0b9e"
      },
      "execution_count": 290,
      "outputs": [
        {
          "output_type": "execute_result",
          "data": {
            "text/plain": [
              "                                  App   Category  Rating  Reviews        Size  \\\n",
              "39055        I'm Rich - Trump Edition  LIFESTYLE     3.6      275   7300000.0   \n",
              "40022  I am rich (Most expensive app)    FINANCE     4.1      129   2700000.0   \n",
              "40027                       I am Rich    FINANCE     4.3      180   3800000.0   \n",
              "39051                      💎 I'm rich  LIFESTYLE     3.8      718  26000000.0   \n",
              "40016                      I am Rich!    FINANCE     3.8       93  22000000.0   \n",
              "\n",
              "       Installs  Type   Price Content Rating     Genres Last Updated  \\\n",
              "39055     10000  Paid  400.00       Everyone  Lifestyle   2018-05-03   \n",
              "40022      1000  Paid  399.99           Teen    Finance   2017-12-06   \n",
              "40027      5000  Paid  399.99       Everyone    Finance   2018-03-22   \n",
              "39051     10000  Paid  399.99       Everyone  Lifestyle   2018-03-11   \n",
              "40016      1000  Paid  399.99       Everyone    Finance   2017-12-11   \n",
              "\n",
              "      Current Ver   Android Ver  Sentiment_Polarity  Sentiment_Subjectivity  \n",
              "39055       1.0.1    4.1 and up                0.13                0.509091  \n",
              "40022           2  4.0.3 and up                0.13                0.509091  \n",
              "40027         1.0    4.2 and up                0.13                0.509091  \n",
              "39051       1.0.0    4.4 and up                0.13                0.509091  \n",
              "40016         1.0    4.1 and up                0.13                0.509091  "
            ],
            "text/html": [
              "\n",
              "  <div id=\"df-89ad970c-715e-456e-98f0-765c5412a7ae\">\n",
              "    <div class=\"colab-df-container\">\n",
              "      <div>\n",
              "<style scoped>\n",
              "    .dataframe tbody tr th:only-of-type {\n",
              "        vertical-align: middle;\n",
              "    }\n",
              "\n",
              "    .dataframe tbody tr th {\n",
              "        vertical-align: top;\n",
              "    }\n",
              "\n",
              "    .dataframe thead th {\n",
              "        text-align: right;\n",
              "    }\n",
              "</style>\n",
              "<table border=\"1\" class=\"dataframe\">\n",
              "  <thead>\n",
              "    <tr style=\"text-align: right;\">\n",
              "      <th></th>\n",
              "      <th>App</th>\n",
              "      <th>Category</th>\n",
              "      <th>Rating</th>\n",
              "      <th>Reviews</th>\n",
              "      <th>Size</th>\n",
              "      <th>Installs</th>\n",
              "      <th>Type</th>\n",
              "      <th>Price</th>\n",
              "      <th>Content Rating</th>\n",
              "      <th>Genres</th>\n",
              "      <th>Last Updated</th>\n",
              "      <th>Current Ver</th>\n",
              "      <th>Android Ver</th>\n",
              "      <th>Sentiment_Polarity</th>\n",
              "      <th>Sentiment_Subjectivity</th>\n",
              "    </tr>\n",
              "  </thead>\n",
              "  <tbody>\n",
              "    <tr>\n",
              "      <th>39055</th>\n",
              "      <td>I'm Rich - Trump Edition</td>\n",
              "      <td>LIFESTYLE</td>\n",
              "      <td>3.6</td>\n",
              "      <td>275</td>\n",
              "      <td>7300000.0</td>\n",
              "      <td>10000</td>\n",
              "      <td>Paid</td>\n",
              "      <td>400.00</td>\n",
              "      <td>Everyone</td>\n",
              "      <td>Lifestyle</td>\n",
              "      <td>2018-05-03</td>\n",
              "      <td>1.0.1</td>\n",
              "      <td>4.1 and up</td>\n",
              "      <td>0.13</td>\n",
              "      <td>0.509091</td>\n",
              "    </tr>\n",
              "    <tr>\n",
              "      <th>40022</th>\n",
              "      <td>I am rich (Most expensive app)</td>\n",
              "      <td>FINANCE</td>\n",
              "      <td>4.1</td>\n",
              "      <td>129</td>\n",
              "      <td>2700000.0</td>\n",
              "      <td>1000</td>\n",
              "      <td>Paid</td>\n",
              "      <td>399.99</td>\n",
              "      <td>Teen</td>\n",
              "      <td>Finance</td>\n",
              "      <td>2017-12-06</td>\n",
              "      <td>2</td>\n",
              "      <td>4.0.3 and up</td>\n",
              "      <td>0.13</td>\n",
              "      <td>0.509091</td>\n",
              "    </tr>\n",
              "    <tr>\n",
              "      <th>40027</th>\n",
              "      <td>I am Rich</td>\n",
              "      <td>FINANCE</td>\n",
              "      <td>4.3</td>\n",
              "      <td>180</td>\n",
              "      <td>3800000.0</td>\n",
              "      <td>5000</td>\n",
              "      <td>Paid</td>\n",
              "      <td>399.99</td>\n",
              "      <td>Everyone</td>\n",
              "      <td>Finance</td>\n",
              "      <td>2018-03-22</td>\n",
              "      <td>1.0</td>\n",
              "      <td>4.2 and up</td>\n",
              "      <td>0.13</td>\n",
              "      <td>0.509091</td>\n",
              "    </tr>\n",
              "    <tr>\n",
              "      <th>39051</th>\n",
              "      <td>💎 I'm rich</td>\n",
              "      <td>LIFESTYLE</td>\n",
              "      <td>3.8</td>\n",
              "      <td>718</td>\n",
              "      <td>26000000.0</td>\n",
              "      <td>10000</td>\n",
              "      <td>Paid</td>\n",
              "      <td>399.99</td>\n",
              "      <td>Everyone</td>\n",
              "      <td>Lifestyle</td>\n",
              "      <td>2018-03-11</td>\n",
              "      <td>1.0.0</td>\n",
              "      <td>4.4 and up</td>\n",
              "      <td>0.13</td>\n",
              "      <td>0.509091</td>\n",
              "    </tr>\n",
              "    <tr>\n",
              "      <th>40016</th>\n",
              "      <td>I am Rich!</td>\n",
              "      <td>FINANCE</td>\n",
              "      <td>3.8</td>\n",
              "      <td>93</td>\n",
              "      <td>22000000.0</td>\n",
              "      <td>1000</td>\n",
              "      <td>Paid</td>\n",
              "      <td>399.99</td>\n",
              "      <td>Everyone</td>\n",
              "      <td>Finance</td>\n",
              "      <td>2017-12-11</td>\n",
              "      <td>1.0</td>\n",
              "      <td>4.1 and up</td>\n",
              "      <td>0.13</td>\n",
              "      <td>0.509091</td>\n",
              "    </tr>\n",
              "  </tbody>\n",
              "</table>\n",
              "</div>\n",
              "      <button class=\"colab-df-convert\" onclick=\"convertToInteractive('df-89ad970c-715e-456e-98f0-765c5412a7ae')\"\n",
              "              title=\"Convert this dataframe to an interactive table.\"\n",
              "              style=\"display:none;\">\n",
              "        \n",
              "  <svg xmlns=\"http://www.w3.org/2000/svg\" height=\"24px\"viewBox=\"0 0 24 24\"\n",
              "       width=\"24px\">\n",
              "    <path d=\"M0 0h24v24H0V0z\" fill=\"none\"/>\n",
              "    <path d=\"M18.56 5.44l.94 2.06.94-2.06 2.06-.94-2.06-.94-.94-2.06-.94 2.06-2.06.94zm-11 1L8.5 8.5l.94-2.06 2.06-.94-2.06-.94L8.5 2.5l-.94 2.06-2.06.94zm10 10l.94 2.06.94-2.06 2.06-.94-2.06-.94-.94-2.06-.94 2.06-2.06.94z\"/><path d=\"M17.41 7.96l-1.37-1.37c-.4-.4-.92-.59-1.43-.59-.52 0-1.04.2-1.43.59L10.3 9.45l-7.72 7.72c-.78.78-.78 2.05 0 2.83L4 21.41c.39.39.9.59 1.41.59.51 0 1.02-.2 1.41-.59l7.78-7.78 2.81-2.81c.8-.78.8-2.07 0-2.86zM5.41 20L4 18.59l7.72-7.72 1.47 1.35L5.41 20z\"/>\n",
              "  </svg>\n",
              "      </button>\n",
              "      \n",
              "  <style>\n",
              "    .colab-df-container {\n",
              "      display:flex;\n",
              "      flex-wrap:wrap;\n",
              "      gap: 12px;\n",
              "    }\n",
              "\n",
              "    .colab-df-convert {\n",
              "      background-color: #E8F0FE;\n",
              "      border: none;\n",
              "      border-radius: 50%;\n",
              "      cursor: pointer;\n",
              "      display: none;\n",
              "      fill: #1967D2;\n",
              "      height: 32px;\n",
              "      padding: 0 0 0 0;\n",
              "      width: 32px;\n",
              "    }\n",
              "\n",
              "    .colab-df-convert:hover {\n",
              "      background-color: #E2EBFA;\n",
              "      box-shadow: 0px 1px 2px rgba(60, 64, 67, 0.3), 0px 1px 3px 1px rgba(60, 64, 67, 0.15);\n",
              "      fill: #174EA6;\n",
              "    }\n",
              "\n",
              "    [theme=dark] .colab-df-convert {\n",
              "      background-color: #3B4455;\n",
              "      fill: #D2E3FC;\n",
              "    }\n",
              "\n",
              "    [theme=dark] .colab-df-convert:hover {\n",
              "      background-color: #434B5C;\n",
              "      box-shadow: 0px 1px 3px 1px rgba(0, 0, 0, 0.15);\n",
              "      filter: drop-shadow(0px 1px 2px rgba(0, 0, 0, 0.3));\n",
              "      fill: #FFFFFF;\n",
              "    }\n",
              "  </style>\n",
              "\n",
              "      <script>\n",
              "        const buttonEl =\n",
              "          document.querySelector('#df-89ad970c-715e-456e-98f0-765c5412a7ae button.colab-df-convert');\n",
              "        buttonEl.style.display =\n",
              "          google.colab.kernel.accessAllowed ? 'block' : 'none';\n",
              "\n",
              "        async function convertToInteractive(key) {\n",
              "          const element = document.querySelector('#df-89ad970c-715e-456e-98f0-765c5412a7ae');\n",
              "          const dataTable =\n",
              "            await google.colab.kernel.invokeFunction('convertToInteractive',\n",
              "                                                     [key], {});\n",
              "          if (!dataTable) return;\n",
              "\n",
              "          const docLinkHtml = 'Like what you see? Visit the ' +\n",
              "            '<a target=\"_blank\" href=https://colab.research.google.com/notebooks/data_table.ipynb>data table notebook</a>'\n",
              "            + ' to learn more about interactive tables.';\n",
              "          element.innerHTML = '';\n",
              "          dataTable['output_type'] = 'display_data';\n",
              "          await google.colab.output.renderOutput(dataTable, element);\n",
              "          const docLink = document.createElement('div');\n",
              "          docLink.innerHTML = docLinkHtml;\n",
              "          element.appendChild(docLink);\n",
              "        }\n",
              "      </script>\n",
              "    </div>\n",
              "  </div>\n",
              "  "
            ]
          },
          "metadata": {},
          "execution_count": 290
        }
      ]
    },
    {
      "cell_type": "code",
      "source": [
        "df.describe()"
      ],
      "metadata": {
        "colab": {
          "base_uri": "https://localhost:8080/",
          "height": 300
        },
        "id": "tflBszWam3sH",
        "outputId": "487ca512-0c5e-453d-d780-4246e832818d"
      },
      "execution_count": 293,
      "outputs": [
        {
          "output_type": "execute_result",
          "data": {
            "text/plain": [
              "             Rating       Reviews          Size      Installs         Price  \\\n",
              "count  45412.000000  4.541200e+04  4.541200e+04  4.541200e+04  45412.000000   \n",
              "mean       4.307097  1.926227e+06  3.066022e+07  5.155085e+07      0.295397   \n",
              "std        0.345242  6.897737e+06  2.297123e+07  1.608509e+08      7.845247   \n",
              "min        1.000000  0.000000e+00  8.500000e+03  0.000000e+00      0.000000   \n",
              "25%        4.200000  6.998000e+03  1.200000e+07  5.000000e+05      0.000000   \n",
              "50%        4.400000  6.828600e+04  3.066022e+07  5.000000e+06      0.000000   \n",
              "75%        4.500000  1.092337e+06  3.300000e+07  5.000000e+07      0.000000   \n",
              "max        5.000000  7.815831e+07  1.000000e+08  1.000000e+09    400.000000   \n",
              "\n",
              "       Sentiment_Polarity  Sentiment_Subjectivity  \n",
              "count        45412.000000            45412.000000  \n",
              "mean             0.158388                0.528081  \n",
              "std              0.301047                0.184913  \n",
              "min             -1.000000                0.000000  \n",
              "25%              0.005952                0.454545  \n",
              "50%              0.130000                0.509091  \n",
              "75%              0.303125                0.607180  \n",
              "max              1.000000                1.000000  "
            ],
            "text/html": [
              "\n",
              "  <div id=\"df-8fd20fc2-f1ce-47de-819a-9568db899961\">\n",
              "    <div class=\"colab-df-container\">\n",
              "      <div>\n",
              "<style scoped>\n",
              "    .dataframe tbody tr th:only-of-type {\n",
              "        vertical-align: middle;\n",
              "    }\n",
              "\n",
              "    .dataframe tbody tr th {\n",
              "        vertical-align: top;\n",
              "    }\n",
              "\n",
              "    .dataframe thead th {\n",
              "        text-align: right;\n",
              "    }\n",
              "</style>\n",
              "<table border=\"1\" class=\"dataframe\">\n",
              "  <thead>\n",
              "    <tr style=\"text-align: right;\">\n",
              "      <th></th>\n",
              "      <th>Rating</th>\n",
              "      <th>Reviews</th>\n",
              "      <th>Size</th>\n",
              "      <th>Installs</th>\n",
              "      <th>Price</th>\n",
              "      <th>Sentiment_Polarity</th>\n",
              "      <th>Sentiment_Subjectivity</th>\n",
              "    </tr>\n",
              "  </thead>\n",
              "  <tbody>\n",
              "    <tr>\n",
              "      <th>count</th>\n",
              "      <td>45412.000000</td>\n",
              "      <td>4.541200e+04</td>\n",
              "      <td>4.541200e+04</td>\n",
              "      <td>4.541200e+04</td>\n",
              "      <td>45412.000000</td>\n",
              "      <td>45412.000000</td>\n",
              "      <td>45412.000000</td>\n",
              "    </tr>\n",
              "    <tr>\n",
              "      <th>mean</th>\n",
              "      <td>4.307097</td>\n",
              "      <td>1.926227e+06</td>\n",
              "      <td>3.066022e+07</td>\n",
              "      <td>5.155085e+07</td>\n",
              "      <td>0.295397</td>\n",
              "      <td>0.158388</td>\n",
              "      <td>0.528081</td>\n",
              "    </tr>\n",
              "    <tr>\n",
              "      <th>std</th>\n",
              "      <td>0.345242</td>\n",
              "      <td>6.897737e+06</td>\n",
              "      <td>2.297123e+07</td>\n",
              "      <td>1.608509e+08</td>\n",
              "      <td>7.845247</td>\n",
              "      <td>0.301047</td>\n",
              "      <td>0.184913</td>\n",
              "    </tr>\n",
              "    <tr>\n",
              "      <th>min</th>\n",
              "      <td>1.000000</td>\n",
              "      <td>0.000000e+00</td>\n",
              "      <td>8.500000e+03</td>\n",
              "      <td>0.000000e+00</td>\n",
              "      <td>0.000000</td>\n",
              "      <td>-1.000000</td>\n",
              "      <td>0.000000</td>\n",
              "    </tr>\n",
              "    <tr>\n",
              "      <th>25%</th>\n",
              "      <td>4.200000</td>\n",
              "      <td>6.998000e+03</td>\n",
              "      <td>1.200000e+07</td>\n",
              "      <td>5.000000e+05</td>\n",
              "      <td>0.000000</td>\n",
              "      <td>0.005952</td>\n",
              "      <td>0.454545</td>\n",
              "    </tr>\n",
              "    <tr>\n",
              "      <th>50%</th>\n",
              "      <td>4.400000</td>\n",
              "      <td>6.828600e+04</td>\n",
              "      <td>3.066022e+07</td>\n",
              "      <td>5.000000e+06</td>\n",
              "      <td>0.000000</td>\n",
              "      <td>0.130000</td>\n",
              "      <td>0.509091</td>\n",
              "    </tr>\n",
              "    <tr>\n",
              "      <th>75%</th>\n",
              "      <td>4.500000</td>\n",
              "      <td>1.092337e+06</td>\n",
              "      <td>3.300000e+07</td>\n",
              "      <td>5.000000e+07</td>\n",
              "      <td>0.000000</td>\n",
              "      <td>0.303125</td>\n",
              "      <td>0.607180</td>\n",
              "    </tr>\n",
              "    <tr>\n",
              "      <th>max</th>\n",
              "      <td>5.000000</td>\n",
              "      <td>7.815831e+07</td>\n",
              "      <td>1.000000e+08</td>\n",
              "      <td>1.000000e+09</td>\n",
              "      <td>400.000000</td>\n",
              "      <td>1.000000</td>\n",
              "      <td>1.000000</td>\n",
              "    </tr>\n",
              "  </tbody>\n",
              "</table>\n",
              "</div>\n",
              "      <button class=\"colab-df-convert\" onclick=\"convertToInteractive('df-8fd20fc2-f1ce-47de-819a-9568db899961')\"\n",
              "              title=\"Convert this dataframe to an interactive table.\"\n",
              "              style=\"display:none;\">\n",
              "        \n",
              "  <svg xmlns=\"http://www.w3.org/2000/svg\" height=\"24px\"viewBox=\"0 0 24 24\"\n",
              "       width=\"24px\">\n",
              "    <path d=\"M0 0h24v24H0V0z\" fill=\"none\"/>\n",
              "    <path d=\"M18.56 5.44l.94 2.06.94-2.06 2.06-.94-2.06-.94-.94-2.06-.94 2.06-2.06.94zm-11 1L8.5 8.5l.94-2.06 2.06-.94-2.06-.94L8.5 2.5l-.94 2.06-2.06.94zm10 10l.94 2.06.94-2.06 2.06-.94-2.06-.94-.94-2.06-.94 2.06-2.06.94z\"/><path d=\"M17.41 7.96l-1.37-1.37c-.4-.4-.92-.59-1.43-.59-.52 0-1.04.2-1.43.59L10.3 9.45l-7.72 7.72c-.78.78-.78 2.05 0 2.83L4 21.41c.39.39.9.59 1.41.59.51 0 1.02-.2 1.41-.59l7.78-7.78 2.81-2.81c.8-.78.8-2.07 0-2.86zM5.41 20L4 18.59l7.72-7.72 1.47 1.35L5.41 20z\"/>\n",
              "  </svg>\n",
              "      </button>\n",
              "      \n",
              "  <style>\n",
              "    .colab-df-container {\n",
              "      display:flex;\n",
              "      flex-wrap:wrap;\n",
              "      gap: 12px;\n",
              "    }\n",
              "\n",
              "    .colab-df-convert {\n",
              "      background-color: #E8F0FE;\n",
              "      border: none;\n",
              "      border-radius: 50%;\n",
              "      cursor: pointer;\n",
              "      display: none;\n",
              "      fill: #1967D2;\n",
              "      height: 32px;\n",
              "      padding: 0 0 0 0;\n",
              "      width: 32px;\n",
              "    }\n",
              "\n",
              "    .colab-df-convert:hover {\n",
              "      background-color: #E2EBFA;\n",
              "      box-shadow: 0px 1px 2px rgba(60, 64, 67, 0.3), 0px 1px 3px 1px rgba(60, 64, 67, 0.15);\n",
              "      fill: #174EA6;\n",
              "    }\n",
              "\n",
              "    [theme=dark] .colab-df-convert {\n",
              "      background-color: #3B4455;\n",
              "      fill: #D2E3FC;\n",
              "    }\n",
              "\n",
              "    [theme=dark] .colab-df-convert:hover {\n",
              "      background-color: #434B5C;\n",
              "      box-shadow: 0px 1px 3px 1px rgba(0, 0, 0, 0.15);\n",
              "      filter: drop-shadow(0px 1px 2px rgba(0, 0, 0, 0.3));\n",
              "      fill: #FFFFFF;\n",
              "    }\n",
              "  </style>\n",
              "\n",
              "      <script>\n",
              "        const buttonEl =\n",
              "          document.querySelector('#df-8fd20fc2-f1ce-47de-819a-9568db899961 button.colab-df-convert');\n",
              "        buttonEl.style.display =\n",
              "          google.colab.kernel.accessAllowed ? 'block' : 'none';\n",
              "\n",
              "        async function convertToInteractive(key) {\n",
              "          const element = document.querySelector('#df-8fd20fc2-f1ce-47de-819a-9568db899961');\n",
              "          const dataTable =\n",
              "            await google.colab.kernel.invokeFunction('convertToInteractive',\n",
              "                                                     [key], {});\n",
              "          if (!dataTable) return;\n",
              "\n",
              "          const docLinkHtml = 'Like what you see? Visit the ' +\n",
              "            '<a target=\"_blank\" href=https://colab.research.google.com/notebooks/data_table.ipynb>data table notebook</a>'\n",
              "            + ' to learn more about interactive tables.';\n",
              "          element.innerHTML = '';\n",
              "          dataTable['output_type'] = 'display_data';\n",
              "          await google.colab.output.renderOutput(dataTable, element);\n",
              "          const docLink = document.createElement('div');\n",
              "          docLink.innerHTML = docLinkHtml;\n",
              "          element.appendChild(docLink);\n",
              "        }\n",
              "      </script>\n",
              "    </div>\n",
              "  </div>\n",
              "  "
            ]
          },
          "metadata": {},
          "execution_count": 293
        }
      ]
    },
    {
      "cell_type": "markdown",
      "source": [
        "### Genres"
      ],
      "metadata": {
        "id": "WAHyGHPubtyM"
      }
    },
    {
      "cell_type": "code",
      "source": [
        "df[\"Genres\"].unique()"
      ],
      "metadata": {
        "colab": {
          "base_uri": "https://localhost:8080/"
        },
        "id": "3UiJz18ebxuw",
        "outputId": "7820fe41-8a5b-4c15-ed84-db1701372a6f"
      },
      "execution_count": 294,
      "outputs": [
        {
          "output_type": "execute_result",
          "data": {
            "text/plain": [
              "array(['Lifestyle', 'Finance', 'Entertainment', 'Medical', 'Productivity',\n",
              "       'Events', 'Business', 'Education', 'Sports', 'Photography',\n",
              "       'Tools', 'Role Playing', 'Communication', 'Arcade', 'Action',\n",
              "       'Casual', 'Casino', 'Social', 'Simulation', 'Maps & Navigation',\n",
              "       'Personalization', 'Health & Fitness', 'Auto & Vehicles',\n",
              "       'Strategy', 'Travel & Local', 'Board', 'Dating',\n",
              "       'Educational;Education', 'Arcade;Action & Adventure', 'Adventure',\n",
              "       'Weather', 'Books & Reference', 'Education;Education',\n",
              "       'Video Players & Editors', 'Puzzle', 'Simulation;Education',\n",
              "       'Sports;Action & Adventure', 'Board;Brain Games',\n",
              "       'Casual;Pretend Play', 'Parenting', 'Adventure;Action & Adventure',\n",
              "       'Food & Drink', 'Educational', 'Card', 'Casual;Education',\n",
              "       'Education;Pretend Play', 'Action;Action & Adventure',\n",
              "       'Education;Creativity', 'Strategy;Action & Adventure', 'Racing',\n",
              "       'Educational;Creativity', 'Books & Reference;Education',\n",
              "       'Books & Reference;Creativity', 'Education;Action & Adventure',\n",
              "       'Role Playing;Action & Adventure', 'Educational;Pretend Play',\n",
              "       'Shopping', 'Adventure;Brain Games', 'Board;Action & Adventure',\n",
              "       'News & Magazines', 'Card;Action & Adventure',\n",
              "       'Puzzle;Brain Games', 'Casual;Action & Adventure',\n",
              "       'Racing;Action & Adventure', 'Role Playing;Education',\n",
              "       'Art & Design', 'Music', 'Music;Music & Video',\n",
              "       'Simulation;Pretend Play', 'Education;Brain Games',\n",
              "       'Board;Pretend Play', 'Libraries & Demo', 'Casual;Brain Games',\n",
              "       'House & Home', 'Casual;Music & Video', 'Parenting;Music & Video',\n",
              "       'Comics', 'Word', 'Trivia', 'Entertainment;Pretend Play',\n",
              "       'Video Players & Editors;Music & Video', 'Educational;Brain Games',\n",
              "       'Puzzle;Education', 'Beauty', 'Simulation;Action & Adventure',\n",
              "       'Video Players & Editors;Creativity',\n",
              "       'Entertainment;Music & Video', 'Art & Design;Pretend Play',\n",
              "       'Casual;Creativity', 'Entertainment;Brain Games',\n",
              "       'Art & Design;Creativity', 'Parenting;Education',\n",
              "       'Entertainment;Creativity', 'Tools;Education', 'Trivia;Education',\n",
              "       'Educational;Action & Adventure', 'Card;Brain Games',\n",
              "       'Parenting;Brain Games', 'Music & Audio;Music & Video',\n",
              "       'Entertainment;Education', 'Comics;Creativity',\n",
              "       'Art & Design;Action & Adventure',\n",
              "       'Travel & Local;Action & Adventure', 'Role Playing;Pretend Play',\n",
              "       'Entertainment;Action & Adventure', 'Health & Fitness;Education',\n",
              "       'Puzzle;Action & Adventure', 'Role Playing;Brain Games',\n",
              "       'Education;Music & Video', 'Strategy;Education',\n",
              "       'Arcade;Pretend Play', 'Adventure;Education',\n",
              "       'Health & Fitness;Action & Adventure', 'Puzzle;Creativity',\n",
              "       'Lifestyle;Pretend Play', 'Strategy;Creativity',\n",
              "       'Racing;Pretend Play', 'Communication;Creativity',\n",
              "       'Lifestyle;Education'], dtype=object)"
            ]
          },
          "metadata": {},
          "execution_count": 294
        }
      ]
    },
    {
      "cell_type": "code",
      "source": [
        "len(df['Genres'].unique())"
      ],
      "metadata": {
        "colab": {
          "base_uri": "https://localhost:8080/"
        },
        "id": "QFN6kOfNcEZm",
        "outputId": "8d9ae1c5-cb2a-4b46-996d-a3f3728649ea"
      },
      "execution_count": 295,
      "outputs": [
        {
          "output_type": "execute_result",
          "data": {
            "text/plain": [
              "119"
            ]
          },
          "metadata": {},
          "execution_count": 295
        }
      ]
    },
    {
      "cell_type": "code",
      "source": [
        "# Sortning the name of genres selecting name only before';' and removing all the remaining words\n",
        "df['Genres']=df['Genres'].str.split(';').str[0]\n",
        "len(df['Genres'].unique())"
      ],
      "metadata": {
        "colab": {
          "base_uri": "https://localhost:8080/"
        },
        "id": "SD1mOL0_ci0F",
        "outputId": "5f3b5d99-57de-47db-a2d2-fefe77aab818"
      },
      "execution_count": 298,
      "outputs": [
        {
          "output_type": "execute_result",
          "data": {
            "text/plain": [
              "48"
            ]
          },
          "metadata": {},
          "execution_count": 298
        }
      ]
    },
    {
      "cell_type": "code",
      "source": [
        "df['Genres'].unique()"
      ],
      "metadata": {
        "colab": {
          "base_uri": "https://localhost:8080/"
        },
        "id": "cWT0PtoCf4bs",
        "outputId": "cd63a55d-c92d-48f0-899f-9716e53e0761"
      },
      "execution_count": 299,
      "outputs": [
        {
          "output_type": "execute_result",
          "data": {
            "text/plain": [
              "array(['Lifestyle', 'Finance', 'Entertainment', 'Medical', 'Productivity',\n",
              "       'Events', 'Business', 'Education', 'Sports', 'Photography',\n",
              "       'Tools', 'Role Playing', 'Communication', 'Arcade', 'Action',\n",
              "       'Casual', 'Casino', 'Social', 'Simulation', 'Maps & Navigation',\n",
              "       'Personalization', 'Health & Fitness', 'Auto & Vehicles',\n",
              "       'Strategy', 'Travel & Local', 'Board', 'Dating', 'Educational',\n",
              "       'Adventure', 'Weather', 'Books & Reference',\n",
              "       'Video Players & Editors', 'Puzzle', 'Parenting', 'Food & Drink',\n",
              "       'Card', 'Racing', 'Shopping', 'News & Magazines', 'Art & Design',\n",
              "       'Music', 'Libraries & Demo', 'House & Home', 'Comics', 'Word',\n",
              "       'Trivia', 'Beauty', 'Music & Audio'], dtype=object)"
            ]
          },
          "metadata": {},
          "execution_count": 299
        }
      ]
    },
    {
      "cell_type": "markdown",
      "source": [
        "## Data Visualization"
      ],
      "metadata": {
        "id": "tCUHWRGdX5cy"
      }
    },
    {
      "cell_type": "code",
      "source": [
        "grp=df.groupby('Category')\n",
        "x=grp['Installs'].agg(np.mean)\n",
        "y=grp['Price'].agg(np.sum)\n",
        "z=grp['Reviews'].agg(np.mean)\n",
        "print(x)\n",
        "print(y)\n",
        "print(z)"
      ],
      "metadata": {
        "colab": {
          "base_uri": "https://localhost:8080/"
        },
        "id": "-H6Pul8OgbtY",
        "outputId": "5de08b33-2ce0-4e69-f8f3-f334b4f31c01"
      },
      "execution_count": 301,
      "outputs": [
        {
          "output_type": "stream",
          "name": "stdout",
          "text": [
            "Category\n",
            "ART_AND_DESIGN         2.200096e+06\n",
            "AUTO_AND_VEHICLES      1.461683e+06\n",
            "BEAUTY                 1.658637e+06\n",
            "BOOKS_AND_REFERENCE    3.245936e+07\n",
            "BUSINESS               6.111383e+06\n",
            "COMICS                 9.088752e+05\n",
            "COMMUNICATION          1.819391e+08\n",
            "DATING                 1.294502e+06\n",
            "EDUCATION              1.595576e+07\n",
            "ENTERTAINMENT          1.058172e+07\n",
            "EVENTS                 3.101755e+05\n",
            "FAMILY                 2.184255e+07\n",
            "FINANCE                9.050463e+06\n",
            "FOOD_AND_DRINK         2.658236e+06\n",
            "GAME                   5.976662e+07\n",
            "HEALTH_AND_FITNESS     9.367678e+06\n",
            "HOUSE_AND_HOME         1.074315e+06\n",
            "LIBRARIES_AND_DEMO     1.872940e+06\n",
            "LIFESTYLE              3.985327e+06\n",
            "MAPS_AND_NAVIGATION    3.408500e+06\n",
            "MEDICAL                4.051904e+05\n",
            "NEWS_AND_MAGAZINES     1.298938e+08\n",
            "PARENTING              6.767092e+05\n",
            "PERSONALIZATION        1.450525e+07\n",
            "PHOTOGRAPHY            2.662950e+08\n",
            "PRODUCTIVITY           6.156913e+07\n",
            "SHOPPING               3.423875e+07\n",
            "SOCIAL                 2.494463e+08\n",
            "SPORTS                 1.128784e+07\n",
            "TOOLS                  7.843005e+07\n",
            "TRAVEL_AND_LOCAL       2.077375e+07\n",
            "VIDEO_PLAYERS          2.249108e+07\n",
            "WEATHER                1.788588e+07\n",
            "Name: Installs, dtype: float64\n",
            "Category\n",
            "ART_AND_DESIGN            5.97\n",
            "AUTO_AND_VEHICLES        13.47\n",
            "BEAUTY                    0.00\n",
            "BOOKS_AND_REFERENCE     119.77\n",
            "BUSINESS                175.29\n",
            "COMICS                    0.00\n",
            "COMMUNICATION            83.14\n",
            "DATING                   31.43\n",
            "EDUCATION                17.96\n",
            "ENTERTAINMENT             7.98\n",
            "EVENTS                  109.99\n",
            "FAMILY                 2691.15\n",
            "FINANCE                2900.83\n",
            "FOOD_AND_DRINK            8.48\n",
            "GAME                    497.89\n",
            "HEALTH_AND_FITNESS       64.35\n",
            "HOUSE_AND_HOME            0.00\n",
            "LIBRARIES_AND_DEMO        0.99\n",
            "LIFESTYLE              2360.87\n",
            "MAPS_AND_NAVIGATION      26.95\n",
            "MEDICAL                1847.94\n",
            "NEWS_AND_MAGAZINES        3.98\n",
            "PARENTING                 9.58\n",
            "PERSONALIZATION         623.17\n",
            "PHOTOGRAPHY             122.23\n",
            "PRODUCTIVITY            250.93\n",
            "SHOPPING                  5.48\n",
            "SOCIAL                   15.97\n",
            "SPORTS                 1059.68\n",
            "TOOLS                   266.26\n",
            "TRAVEL_AND_LOCAL         49.95\n",
            "VIDEO_PLAYERS            10.46\n",
            "WEATHER                  32.42\n",
            "Name: Price, dtype: float64\n",
            "Category\n",
            "ART_AND_DESIGN         3.411008e+04\n",
            "AUTO_AND_VEHICLES      4.558692e+04\n",
            "BEAUTY                 1.858590e+04\n",
            "BOOKS_AND_REFERENCE    4.595511e+05\n",
            "BUSINESS               9.196770e+04\n",
            "COMICS                 3.986044e+04\n",
            "COMMUNICATION          1.893273e+06\n",
            "DATING                 2.619473e+04\n",
            "EDUCATION              9.318676e+05\n",
            "ENTERTAINMENT          3.731807e+05\n",
            "EVENTS                 3.415106e+03\n",
            "FAMILY                 1.613964e+06\n",
            "FINANCE                1.305546e+05\n",
            "FOOD_AND_DRINK         1.215618e+05\n",
            "GAME                   4.019377e+06\n",
            "HEALTH_AND_FITNESS     3.114718e+05\n",
            "HOUSE_AND_HOME         2.170130e+04\n",
            "LIBRARIES_AND_DEMO     2.817417e+04\n",
            "LIFESTYLE              1.790296e+05\n",
            "MAPS_AND_NAVIGATION    1.202371e+05\n",
            "MEDICAL                1.172365e+04\n",
            "NEWS_AND_MAGAZINES     2.147822e+05\n",
            "PARENTING              1.049112e+04\n",
            "PERSONALIZATION        5.132061e+05\n",
            "PHOTOGRAPHY            3.313551e+06\n",
            "PRODUCTIVITY           9.172934e+05\n",
            "SHOPPING               1.239979e+06\n",
            "SOCIAL                 1.714326e+07\n",
            "SPORTS                 9.653127e+05\n",
            "TOOLS                  1.022585e+06\n",
            "TRAVEL_AND_LOCAL       3.040309e+05\n",
            "VIDEO_PLAYERS          5.764977e+05\n",
            "WEATHER                6.203701e+05\n",
            "Name: Reviews, dtype: float64\n"
          ]
        }
      ]
    },
    {
      "cell_type": "code",
      "source": [
        "plt.figure(figsize=(15,5))\n",
        "plt.plot(x,'ro',color='b')\n",
        "plt.xticks(rotation=90)\n",
        "plt.title('Category vs Installs')\n",
        "plt.xlabel('Categories-------->')\n",
        "plt.ylabel('Installs---------->')\n",
        "plt.show()"
      ],
      "metadata": {
        "colab": {
          "base_uri": "https://localhost:8080/",
          "height": 704
        },
        "id": "9vsHOt30v3a8",
        "outputId": "9c82ec6d-d0c5-49d7-ac80-02052d587a88"
      },
      "execution_count": 308,
      "outputs": [
        {
          "output_type": "stream",
          "name": "stderr",
          "text": [
            "<ipython-input-308-d12abc279b78>:2: UserWarning: color is redundantly defined by the 'color' keyword argument and the fmt string \"ro\" (-> color='r'). The keyword argument will take precedence.\n",
            "  plt.plot(x,'ro',color='b')\n"
          ]
        },
        {
          "output_type": "display_data",
          "data": {
            "text/plain": [
              "<Figure size 1500x500 with 1 Axes>"
            ],
            "image/png": "[encoded data removed]"
          },
          "metadata": {}
        }
      ]
    },
    {
      "cell_type": "code",
      "source": [
        "plt.figure(figsize=(15,5))\n",
        "plt.plot(x,'r--',color='r')\n",
        "plt.xticks(rotation=90)\n",
        "plt.title('Category vs Pricing')\n",
        "plt.xlabel('Categories-------->')\n",
        "plt.ylabel('Prices---------->')\n",
        "plt.show()"
      ],
      "metadata": {
        "colab": {
          "base_uri": "https://localhost:8080/",
          "height": 704
        },
        "id": "UycHcGiKydNy",
        "outputId": "4f4a75a0-4ca3-455c-9564-6d4fa4c63472"
      },
      "execution_count": 309,
      "outputs": [
        {
          "output_type": "stream",
          "name": "stderr",
          "text": [
            "<ipython-input-309-c40662184ad0>:2: UserWarning: color is redundantly defined by the 'color' keyword argument and the fmt string \"r--\" (-> color='r'). The keyword argument will take precedence.\n",
            "  plt.plot(x,'r--',color='r')\n"
          ]
        },
        {
          "output_type": "display_data",
          "data": {
            "text/plain": [
              "<Figure size 1500x500 with 1 Axes>"
            ],
            "image/png": "[encoded data removed]"
          },
          "metadata": {}
        }
      ]
    },
    {
      "cell_type": "code",
      "source": [
        "plt.figure(figsize=(15,5))\n",
        "plt.plot(z,'g^',color='g')\n",
        "plt.xticks(rotation=90)\n",
        "plt.title('Category vs Reviews')\n",
        "plt.xlabel('Categories-------->')\n",
        "plt.ylabel('Installs---------->')\n",
        "plt.show()"
      ],
      "metadata": {
        "colab": {
          "base_uri": "https://localhost:8080/",
          "height": 704
        },
        "id": "7k36Zxfy0GEj",
        "outputId": "4218112b-3b51-4946-d279-29d0a2e2906e"
      },
      "execution_count": 310,
      "outputs": [
        {
          "output_type": "stream",
          "name": "stderr",
          "text": [
            "<ipython-input-310-0928babd0065>:2: UserWarning: color is redundantly defined by the 'color' keyword argument and the fmt string \"g^\" (-> color='g'). The keyword argument will take precedence.\n",
            "  plt.plot(z,'g^',color='g')\n"
          ]
        },
        {
          "output_type": "display_data",
          "data": {
            "text/plain": [
              "<Figure size 1500x500 with 1 Axes>"
            ],
            "image/png": "[encoded data removed]"
          },
          "metadata": {}
        }
      ]
    }
  ]
}