{
  "nbformat": 4,
  "nbformat_minor": 0,
  "metadata": {
    "colab": {
      "provenance": [],
      "mount_file_id": "1IVma0Fh5BZjqvABfba1z0bxwf5zDZUK8",
      "authorship_tag": "ABX9TyN+xktUrov83JTqdPhfeGyA",
      "include_colab_link": true
    },
    "kernelspec": {
      "name": "python3",
      "display_name": "Python 3"
    },
    "language_info": {
      "name": "python"
    }
  },
  "cells": [
    {
      "cell_type": "markdown",
      "metadata": {
        "id": "view-in-github",
        "colab_type": "text"
      },
      "source": [
        "<a href=\"https://colab.research.google.com/github/saketvaibhav7114/EDA-on-Playstore-App/blob/main/EDA_on_Play_Store_App_Review_Analysis.ipynb\" target=\"_parent\"><img src=\"https://colab.research.google.com/assets/colab-badge.svg\" alt=\"Open In Colab\"/></a>"
      ]
    },
    {
      "cell_type": "code",
      "execution_count": 197,
      "metadata": {
        "id": "Kc9QsU7FOY_P"
      },
      "outputs": [],
      "source": [
        "import pandas as pd\n",
        "import numpy as np\n",
        "import matplotlib.pyplot as plt\n",
        "import seaborn as sns"
      ]
    },
    {
      "cell_type": "code",
      "source": [
        "file_path_1='/content/drive/MyDrive/Play Store Data.csv'\n",
        "file_path_2='/content/drive/MyDrive/User Reviews.csv'\n",
        "df1=pd.read_csv(file_path_1)\n",
        "df2=pd.read_csv(file_path_2)"
      ],
      "metadata": {
        "id": "ztEeUu_dP7c6"
      },
      "execution_count": 198,
      "outputs": []
    },
    {
      "cell_type": "markdown",
      "source": [
        "# Merging the two dataset"
      ],
      "metadata": {
        "id": "t-ZzuDgnX4ib"
      }
    },
    {
      "cell_type": "code",
      "source": [
        "df=pd.merge(df1,df2,how='outer',on='App')"
      ],
      "metadata": {
        "id": "EDLD0R6tYEas"
      },
      "execution_count": 199,
      "outputs": []
    },
    {
      "cell_type": "markdown",
      "source": [
        "# Step 1: Data Understanding\n",
        "* Dataframe shape\n",
        "* Head & Tail\n",
        "* Dtype\n",
        "* Describe \n",
        "\n",
        "\n",
        "\n"
      ],
      "metadata": {
        "id": "469M-0YY-Mwb"
      }
    },
    {
      "cell_type": "code",
      "source": [
        "df.shape"
      ],
      "metadata": {
        "colab": {
          "base_uri": "https://localhost:8080/"
        },
        "id": "heHZyTB2RpNR",
        "outputId": "6c001561-344d-4751-9e17-6a4b6ecfc298"
      },
      "execution_count": 200,
      "outputs": [
        {
          "output_type": "execute_result",
          "data": {
            "text/plain": [
              "(134710, 17)"
            ]
          },
          "metadata": {},
          "execution_count": 200
        }
      ]
    },
    {
      "cell_type": "code",
      "source": [
        "df.head()"
      ],
      "metadata": {
        "colab": {
          "base_uri": "https://localhost:8080/",
          "height": 513
        },
        "id": "yDnkaR3aRvhR",
        "outputId": "d2f4b303-0aa4-4947-a8a5-902a0d82f811"
      },
      "execution_count": 201,
      "outputs": [
        {
          "output_type": "execute_result",
          "data": {
            "text/plain": [
              "                                              App        Category  Rating  \\\n",
              "0  Photo Editor & Candy Camera & Grid & ScrapBook  ART_AND_DESIGN     4.1   \n",
              "1                             Coloring book moana  ART_AND_DESIGN     3.9   \n",
              "2                             Coloring book moana  ART_AND_DESIGN     3.9   \n",
              "3                             Coloring book moana  ART_AND_DESIGN     3.9   \n",
              "4                             Coloring book moana  ART_AND_DESIGN     3.9   \n",
              "\n",
              "  Reviews Size  Installs  Type Price Content Rating  \\\n",
              "0     159  19M   10,000+  Free     0       Everyone   \n",
              "1     967  14M  500,000+  Free     0       Everyone   \n",
              "2     967  14M  500,000+  Free     0       Everyone   \n",
              "3     967  14M  500,000+  Free     0       Everyone   \n",
              "4     967  14M  500,000+  Free     0       Everyone   \n",
              "\n",
              "                      Genres      Last Updated Current Ver   Android Ver  \\\n",
              "0               Art & Design   January 7, 2018       1.0.0  4.0.3 and up   \n",
              "1  Art & Design;Pretend Play  January 15, 2018       2.0.0  4.0.3 and up   \n",
              "2  Art & Design;Pretend Play  January 15, 2018       2.0.0  4.0.3 and up   \n",
              "3  Art & Design;Pretend Play  January 15, 2018       2.0.0  4.0.3 and up   \n",
              "4  Art & Design;Pretend Play  January 15, 2018       2.0.0  4.0.3 and up   \n",
              "\n",
              "                                   Translated_Review Sentiment  \\\n",
              "0                                                NaN       NaN   \n",
              "1  A kid's excessive ads. The types ads allowed a...  Negative   \n",
              "2                                         It bad >:(  Negative   \n",
              "3                                               like   Neutral   \n",
              "4                                                NaN       NaN   \n",
              "\n",
              "   Sentiment_Polarity  Sentiment_Subjectivity  \n",
              "0                 NaN                     NaN  \n",
              "1              -0.250                1.000000  \n",
              "2              -0.725                0.833333  \n",
              "3               0.000                0.000000  \n",
              "4                 NaN                     NaN  "
            ],
            "text/html": [
              "\n",
              "  <div id=\"df-b896ba80-ba55-44e3-a24d-3b1382c53252\">\n",
              "    <div class=\"colab-df-container\">\n",
              "      <div>\n",
              "<style scoped>\n",
              "    .dataframe tbody tr th:only-of-type {\n",
              "        vertical-align: middle;\n",
              "    }\n",
              "\n",
              "    .dataframe tbody tr th {\n",
              "        vertical-align: top;\n",
              "    }\n",
              "\n",
              "    .dataframe thead th {\n",
              "        text-align: right;\n",
              "    }\n",
              "</style>\n",
              "<table border=\"1\" class=\"dataframe\">\n",
              "  <thead>\n",
              "    <tr style=\"text-align: right;\">\n",
              "      <th></th>\n",
              "      <th>App</th>\n",
              "      <th>Category</th>\n",
              "      <th>Rating</th>\n",
              "      <th>Reviews</th>\n",
              "      <th>Size</th>\n",
              "      <th>Installs</th>\n",
              "      <th>Type</th>\n",
              "      <th>Price</th>\n",
              "      <th>Content Rating</th>\n",
              "      <th>Genres</th>\n",
              "      <th>Last Updated</th>\n",
              "      <th>Current Ver</th>\n",
              "      <th>Android Ver</th>\n",
              "      <th>Translated_Review</th>\n",
              "      <th>Sentiment</th>\n",
              "      <th>Sentiment_Polarity</th>\n",
              "      <th>Sentiment_Subjectivity</th>\n",
              "    </tr>\n",
              "  </thead>\n",
              "  <tbody>\n",
              "    <tr>\n",
              "      <th>0</th>\n",
              "      <td>Photo Editor &amp; Candy Camera &amp; Grid &amp; ScrapBook</td>\n",
              "      <td>ART_AND_DESIGN</td>\n",
              "      <td>4.1</td>\n",
              "      <td>159</td>\n",
              "      <td>19M</td>\n",
              "      <td>10,000+</td>\n",
              "      <td>Free</td>\n",
              "      <td>0</td>\n",
              "      <td>Everyone</td>\n",
              "      <td>Art &amp; Design</td>\n",
              "      <td>January 7, 2018</td>\n",
              "      <td>1.0.0</td>\n",
              "      <td>4.0.3 and up</td>\n",
              "      <td>NaN</td>\n",
              "      <td>NaN</td>\n",
              "      <td>NaN</td>\n",
              "      <td>NaN</td>\n",
              "    </tr>\n",
              "    <tr>\n",
              "      <th>1</th>\n",
              "      <td>Coloring book moana</td>\n",
              "      <td>ART_AND_DESIGN</td>\n",
              "      <td>3.9</td>\n",
              "      <td>967</td>\n",
              "      <td>14M</td>\n",
              "      <td>500,000+</td>\n",
              "      <td>Free</td>\n",
              "      <td>0</td>\n",
              "      <td>Everyone</td>\n",
              "      <td>Art &amp; Design;Pretend Play</td>\n",
              "      <td>January 15, 2018</td>\n",
              "      <td>2.0.0</td>\n",
              "      <td>4.0.3 and up</td>\n",
              "      <td>A kid's excessive ads. The types ads allowed a...</td>\n",
              "      <td>Negative</td>\n",
              "      <td>-0.250</td>\n",
              "      <td>1.000000</td>\n",
              "    </tr>\n",
              "    <tr>\n",
              "      <th>2</th>\n",
              "      <td>Coloring book moana</td>\n",
              "      <td>ART_AND_DESIGN</td>\n",
              "      <td>3.9</td>\n",
              "      <td>967</td>\n",
              "      <td>14M</td>\n",
              "      <td>500,000+</td>\n",
              "      <td>Free</td>\n",
              "      <td>0</td>\n",
              "      <td>Everyone</td>\n",
              "      <td>Art &amp; Design;Pretend Play</td>\n",
              "      <td>January 15, 2018</td>\n",
              "      <td>2.0.0</td>\n",
              "      <td>4.0.3 and up</td>\n",
              "      <td>It bad &gt;:(</td>\n",
              "      <td>Negative</td>\n",
              "      <td>-0.725</td>\n",
              "      <td>0.833333</td>\n",
              "    </tr>\n",
              "    <tr>\n",
              "      <th>3</th>\n",
              "      <td>Coloring book moana</td>\n",
              "      <td>ART_AND_DESIGN</td>\n",
              "      <td>3.9</td>\n",
              "      <td>967</td>\n",
              "      <td>14M</td>\n",
              "      <td>500,000+</td>\n",
              "      <td>Free</td>\n",
              "      <td>0</td>\n",
              "      <td>Everyone</td>\n",
              "      <td>Art &amp; Design;Pretend Play</td>\n",
              "      <td>January 15, 2018</td>\n",
              "      <td>2.0.0</td>\n",
              "      <td>4.0.3 and up</td>\n",
              "      <td>like</td>\n",
              "      <td>Neutral</td>\n",
              "      <td>0.000</td>\n",
              "      <td>0.000000</td>\n",
              "    </tr>\n",
              "    <tr>\n",
              "      <th>4</th>\n",
              "      <td>Coloring book moana</td>\n",
              "      <td>ART_AND_DESIGN</td>\n",
              "      <td>3.9</td>\n",
              "      <td>967</td>\n",
              "      <td>14M</td>\n",
              "      <td>500,000+</td>\n",
              "      <td>Free</td>\n",
              "      <td>0</td>\n",
              "      <td>Everyone</td>\n",
              "      <td>Art &amp; Design;Pretend Play</td>\n",
              "      <td>January 15, 2018</td>\n",
              "      <td>2.0.0</td>\n",
              "      <td>4.0.3 and up</td>\n",
              "      <td>NaN</td>\n",
              "      <td>NaN</td>\n",
              "      <td>NaN</td>\n",
              "      <td>NaN</td>\n",
              "    </tr>\n",
              "  </tbody>\n",
              "</table>\n",
              "</div>\n",
              "      <button class=\"colab-df-convert\" onclick=\"convertToInteractive('df-b896ba80-ba55-44e3-a24d-3b1382c53252')\"\n",
              "              title=\"Convert this dataframe to an interactive table.\"\n",
              "              style=\"display:none;\">\n",
              "        \n",
              "  <svg xmlns=\"http://www.w3.org/2000/svg\" height=\"24px\"viewBox=\"0 0 24 24\"\n",
              "       width=\"24px\">\n",
              "    <path d=\"M0 0h24v24H0V0z\" fill=\"none\"/>\n",
              "    <path d=\"M18.56 5.44l.94 2.06.94-2.06 2.06-.94-2.06-.94-.94-2.06-.94 2.06-2.06.94zm-11 1L8.5 8.5l.94-2.06 2.06-.94-2.06-.94L8.5 2.5l-.94 2.06-2.06.94zm10 10l.94 2.06.94-2.06 2.06-.94-2.06-.94-.94-2.06-.94 2.06-2.06.94z\"/><path d=\"M17.41 7.96l-1.37-1.37c-.4-.4-.92-.59-1.43-.59-.52 0-1.04.2-1.43.59L10.3 9.45l-7.72 7.72c-.78.78-.78 2.05 0 2.83L4 21.41c.39.39.9.59 1.41.59.51 0 1.02-.2 1.41-.59l7.78-7.78 2.81-2.81c.8-.78.8-2.07 0-2.86zM5.41 20L4 18.59l7.72-7.72 1.47 1.35L5.41 20z\"/>\n",
              "  </svg>\n",
              "      </button>\n",
              "      \n",
              "  <style>\n",
              "    .colab-df-container {\n",
              "      display:flex;\n",
              "      flex-wrap:wrap;\n",
              "      gap: 12px;\n",
              "    }\n",
              "\n",
              "    .colab-df-convert {\n",
              "      background-color: #E8F0FE;\n",
              "      border: none;\n",
              "      border-radius: 50%;\n",
              "      cursor: pointer;\n",
              "      display: none;\n",
              "      fill: #1967D2;\n",
              "      height: 32px;\n",
              "      padding: 0 0 0 0;\n",
              "      width: 32px;\n",
              "    }\n",
              "\n",
              "    .colab-df-convert:hover {\n",
              "      background-color: #E2EBFA;\n",
              "      box-shadow: 0px 1px 2px rgba(60, 64, 67, 0.3), 0px 1px 3px 1px rgba(60, 64, 67, 0.15);\n",
              "      fill: #174EA6;\n",
              "    }\n",
              "\n",
              "    [theme=dark] .colab-df-convert {\n",
              "      background-color: #3B4455;\n",
              "      fill: #D2E3FC;\n",
              "    }\n",
              "\n",
              "    [theme=dark] .colab-df-convert:hover {\n",
              "      background-color: #434B5C;\n",
              "      box-shadow: 0px 1px 3px 1px rgba(0, 0, 0, 0.15);\n",
              "      filter: drop-shadow(0px 1px 2px rgba(0, 0, 0, 0.3));\n",
              "      fill: #FFFFFF;\n",
              "    }\n",
              "  </style>\n",
              "\n",
              "      <script>\n",
              "        const buttonEl =\n",
              "          document.querySelector('#df-b896ba80-ba55-44e3-a24d-3b1382c53252 button.colab-df-convert');\n",
              "        buttonEl.style.display =\n",
              "          google.colab.kernel.accessAllowed ? 'block' : 'none';\n",
              "\n",
              "        async function convertToInteractive(key) {\n",
              "          const element = document.querySelector('#df-b896ba80-ba55-44e3-a24d-3b1382c53252');\n",
              "          const dataTable =\n",
              "            await google.colab.kernel.invokeFunction('convertToInteractive',\n",
              "                                                     [key], {});\n",
              "          if (!dataTable) return;\n",
              "\n",
              "          const docLinkHtml = 'Like what you see? Visit the ' +\n",
              "            '<a target=\"_blank\" href=https://colab.research.google.com/notebooks/data_table.ipynb>data table notebook</a>'\n",
              "            + ' to learn more about interactive tables.';\n",
              "          element.innerHTML = '';\n",
              "          dataTable['output_type'] = 'display_data';\n",
              "          await google.colab.output.renderOutput(dataTable, element);\n",
              "          const docLink = document.createElement('div');\n",
              "          docLink.innerHTML = docLinkHtml;\n",
              "          element.appendChild(docLink);\n",
              "        }\n",
              "      </script>\n",
              "    </div>\n",
              "  </div>\n",
              "  "
            ]
          },
          "metadata": {},
          "execution_count": 201
        }
      ]
    },
    {
      "cell_type": "code",
      "source": [
        "df.columns"
      ],
      "metadata": {
        "colab": {
          "base_uri": "https://localhost:8080/"
        },
        "id": "Bp2amL8kSAib",
        "outputId": "be4bc062-7ed8-45ba-941e-d9eddd1b3f4b"
      },
      "execution_count": 202,
      "outputs": [
        {
          "output_type": "execute_result",
          "data": {
            "text/plain": [
              "Index(['App', 'Category', 'Rating', 'Reviews', 'Size', 'Installs', 'Type',\n",
              "       'Price', 'Content Rating', 'Genres', 'Last Updated', 'Current Ver',\n",
              "       'Android Ver', 'Translated_Review', 'Sentiment', 'Sentiment_Polarity',\n",
              "       'Sentiment_Subjectivity'],\n",
              "      dtype='object')"
            ]
          },
          "metadata": {},
          "execution_count": 202
        }
      ]
    },
    {
      "cell_type": "code",
      "source": [
        "df.info()"
      ],
      "metadata": {
        "colab": {
          "base_uri": "https://localhost:8080/"
        },
        "id": "BLv_nZpTSFpv",
        "outputId": "2139712b-4775-4ae7-e211-8d6e4a6315fd"
      },
      "execution_count": 203,
      "outputs": [
        {
          "output_type": "stream",
          "name": "stdout",
          "text": [
            "<class 'pandas.core.frame.DataFrame'>\n",
            "Int64Index: 134710 entries, 0 to 134709\n",
            "Data columns (total 17 columns):\n",
            " #   Column                  Non-Null Count   Dtype  \n",
            "---  ------                  --------------   -----  \n",
            " 0   App                     134710 non-null  object \n",
            " 1   Category                131971 non-null  object \n",
            " 2   Rating                  130458 non-null  float64\n",
            " 3   Reviews                 131971 non-null  object \n",
            " 4   Size                    131971 non-null  object \n",
            " 5   Installs                131971 non-null  object \n",
            " 6   Type                    131970 non-null  object \n",
            " 7   Price                   131971 non-null  object \n",
            " 8   Content Rating          131970 non-null  object \n",
            " 9   Genres                  131971 non-null  object \n",
            " 10  Last Updated            131971 non-null  object \n",
            " 11  Current Ver             131963 non-null  object \n",
            " 12  Android Ver             131968 non-null  object \n",
            " 13  Translated_Review       74103 non-null   object \n",
            " 14  Sentiment               74113 non-null   object \n",
            " 15  Sentiment_Polarity      74113 non-null   float64\n",
            " 16  Sentiment_Subjectivity  74113 non-null   float64\n",
            "dtypes: float64(3), object(14)\n",
            "memory usage: 18.5+ MB\n"
          ]
        }
      ]
    },
    {
      "cell_type": "code",
      "source": [
        "df.describe()"
      ],
      "metadata": {
        "colab": {
          "base_uri": "https://localhost:8080/",
          "height": 300
        },
        "id": "pNmwnbp_YwQO",
        "outputId": "695ca749-21ff-44f3-8018-6087818f0b88"
      },
      "execution_count": 204,
      "outputs": [
        {
          "output_type": "execute_result",
          "data": {
            "text/plain": [
              "              Rating  Sentiment_Polarity  Sentiment_Subjectivity\n",
              "count  130458.000000        74113.000000            74113.000000\n",
              "mean        4.313525            0.158436                0.493650\n",
              "std         0.311306            0.333733                0.241525\n",
              "min         1.000000           -1.000000                0.000000\n",
              "25%         4.200000            0.000000                0.377273\n",
              "50%         4.400000            0.130000                0.509091\n",
              "75%         4.500000            0.358333                0.633333\n",
              "max        19.000000            1.000000                1.000000"
            ],
            "text/html": [
              "\n",
              "  <div id=\"df-e8789b0e-13d0-49a5-990e-d19d169460ce\">\n",
              "    <div class=\"colab-df-container\">\n",
              "      <div>\n",
              "<style scoped>\n",
              "    .dataframe tbody tr th:only-of-type {\n",
              "        vertical-align: middle;\n",
              "    }\n",
              "\n",
              "    .dataframe tbody tr th {\n",
              "        vertical-align: top;\n",
              "    }\n",
              "\n",
              "    .dataframe thead th {\n",
              "        text-align: right;\n",
              "    }\n",
              "</style>\n",
              "<table border=\"1\" class=\"dataframe\">\n",
              "  <thead>\n",
              "    <tr style=\"text-align: right;\">\n",
              "      <th></th>\n",
              "      <th>Rating</th>\n",
              "      <th>Sentiment_Polarity</th>\n",
              "      <th>Sentiment_Subjectivity</th>\n",
              "    </tr>\n",
              "  </thead>\n",
              "  <tbody>\n",
              "    <tr>\n",
              "      <th>count</th>\n",
              "      <td>130458.000000</td>\n",
              "      <td>74113.000000</td>\n",
              "      <td>74113.000000</td>\n",
              "    </tr>\n",
              "    <tr>\n",
              "      <th>mean</th>\n",
              "      <td>4.313525</td>\n",
              "      <td>0.158436</td>\n",
              "      <td>0.493650</td>\n",
              "    </tr>\n",
              "    <tr>\n",
              "      <th>std</th>\n",
              "      <td>0.311306</td>\n",
              "      <td>0.333733</td>\n",
              "      <td>0.241525</td>\n",
              "    </tr>\n",
              "    <tr>\n",
              "      <th>min</th>\n",
              "      <td>1.000000</td>\n",
              "      <td>-1.000000</td>\n",
              "      <td>0.000000</td>\n",
              "    </tr>\n",
              "    <tr>\n",
              "      <th>25%</th>\n",
              "      <td>4.200000</td>\n",
              "      <td>0.000000</td>\n",
              "      <td>0.377273</td>\n",
              "    </tr>\n",
              "    <tr>\n",
              "      <th>50%</th>\n",
              "      <td>4.400000</td>\n",
              "      <td>0.130000</td>\n",
              "      <td>0.509091</td>\n",
              "    </tr>\n",
              "    <tr>\n",
              "      <th>75%</th>\n",
              "      <td>4.500000</td>\n",
              "      <td>0.358333</td>\n",
              "      <td>0.633333</td>\n",
              "    </tr>\n",
              "    <tr>\n",
              "      <th>max</th>\n",
              "      <td>19.000000</td>\n",
              "      <td>1.000000</td>\n",
              "      <td>1.000000</td>\n",
              "    </tr>\n",
              "  </tbody>\n",
              "</table>\n",
              "</div>\n",
              "      <button class=\"colab-df-convert\" onclick=\"convertToInteractive('df-e8789b0e-13d0-49a5-990e-d19d169460ce')\"\n",
              "              title=\"Convert this dataframe to an interactive table.\"\n",
              "              style=\"display:none;\">\n",
              "        \n",
              "  <svg xmlns=\"http://www.w3.org/2000/svg\" height=\"24px\"viewBox=\"0 0 24 24\"\n",
              "       width=\"24px\">\n",
              "    <path d=\"M0 0h24v24H0V0z\" fill=\"none\"/>\n",
              "    <path d=\"M18.56 5.44l.94 2.06.94-2.06 2.06-.94-2.06-.94-.94-2.06-.94 2.06-2.06.94zm-11 1L8.5 8.5l.94-2.06 2.06-.94-2.06-.94L8.5 2.5l-.94 2.06-2.06.94zm10 10l.94 2.06.94-2.06 2.06-.94-2.06-.94-.94-2.06-.94 2.06-2.06.94z\"/><path d=\"M17.41 7.96l-1.37-1.37c-.4-.4-.92-.59-1.43-.59-.52 0-1.04.2-1.43.59L10.3 9.45l-7.72 7.72c-.78.78-.78 2.05 0 2.83L4 21.41c.39.39.9.59 1.41.59.51 0 1.02-.2 1.41-.59l7.78-7.78 2.81-2.81c.8-.78.8-2.07 0-2.86zM5.41 20L4 18.59l7.72-7.72 1.47 1.35L5.41 20z\"/>\n",
              "  </svg>\n",
              "      </button>\n",
              "      \n",
              "  <style>\n",
              "    .colab-df-container {\n",
              "      display:flex;\n",
              "      flex-wrap:wrap;\n",
              "      gap: 12px;\n",
              "    }\n",
              "\n",
              "    .colab-df-convert {\n",
              "      background-color: #E8F0FE;\n",
              "      border: none;\n",
              "      border-radius: 50%;\n",
              "      cursor: pointer;\n",
              "      display: none;\n",
              "      fill: #1967D2;\n",
              "      height: 32px;\n",
              "      padding: 0 0 0 0;\n",
              "      width: 32px;\n",
              "    }\n",
              "\n",
              "    .colab-df-convert:hover {\n",
              "      background-color: #E2EBFA;\n",
              "      box-shadow: 0px 1px 2px rgba(60, 64, 67, 0.3), 0px 1px 3px 1px rgba(60, 64, 67, 0.15);\n",
              "      fill: #174EA6;\n",
              "    }\n",
              "\n",
              "    [theme=dark] .colab-df-convert {\n",
              "      background-color: #3B4455;\n",
              "      fill: #D2E3FC;\n",
              "    }\n",
              "\n",
              "    [theme=dark] .colab-df-convert:hover {\n",
              "      background-color: #434B5C;\n",
              "      box-shadow: 0px 1px 3px 1px rgba(0, 0, 0, 0.15);\n",
              "      filter: drop-shadow(0px 1px 2px rgba(0, 0, 0, 0.3));\n",
              "      fill: #FFFFFF;\n",
              "    }\n",
              "  </style>\n",
              "\n",
              "      <script>\n",
              "        const buttonEl =\n",
              "          document.querySelector('#df-e8789b0e-13d0-49a5-990e-d19d169460ce button.colab-df-convert');\n",
              "        buttonEl.style.display =\n",
              "          google.colab.kernel.accessAllowed ? 'block' : 'none';\n",
              "\n",
              "        async function convertToInteractive(key) {\n",
              "          const element = document.querySelector('#df-e8789b0e-13d0-49a5-990e-d19d169460ce');\n",
              "          const dataTable =\n",
              "            await google.colab.kernel.invokeFunction('convertToInteractive',\n",
              "                                                     [key], {});\n",
              "          if (!dataTable) return;\n",
              "\n",
              "          const docLinkHtml = 'Like what you see? Visit the ' +\n",
              "            '<a target=\"_blank\" href=https://colab.research.google.com/notebooks/data_table.ipynb>data table notebook</a>'\n",
              "            + ' to learn more about interactive tables.';\n",
              "          element.innerHTML = '';\n",
              "          dataTable['output_type'] = 'display_data';\n",
              "          await google.colab.output.renderOutput(dataTable, element);\n",
              "          const docLink = document.createElement('div');\n",
              "          docLink.innerHTML = docLinkHtml;\n",
              "          element.appendChild(docLink);\n",
              "        }\n",
              "      </script>\n",
              "    </div>\n",
              "  </div>\n",
              "  "
            ]
          },
          "metadata": {},
          "execution_count": 204
        }
      ]
    },
    {
      "cell_type": "code",
      "source": [
        "df.isnull().sum()"
      ],
      "metadata": {
        "colab": {
          "base_uri": "https://localhost:8080/"
        },
        "id": "60Jk9HIHaPbR",
        "outputId": "e0f9aff0-3534-447d-bc1d-5417fa233809"
      },
      "execution_count": 205,
      "outputs": [
        {
          "output_type": "execute_result",
          "data": {
            "text/plain": [
              "App                           0\n",
              "Category                   2739\n",
              "Rating                     4252\n",
              "Reviews                    2739\n",
              "Size                       2739\n",
              "Installs                   2739\n",
              "Type                       2740\n",
              "Price                      2739\n",
              "Content Rating             2740\n",
              "Genres                     2739\n",
              "Last Updated               2739\n",
              "Current Ver                2747\n",
              "Android Ver                2742\n",
              "Translated_Review         60607\n",
              "Sentiment                 60597\n",
              "Sentiment_Polarity        60597\n",
              "Sentiment_Subjectivity    60597\n",
              "dtype: int64"
            ]
          },
          "metadata": {},
          "execution_count": 205
        }
      ]
    },
    {
      "cell_type": "markdown",
      "source": [
        "# Dropping unwanted columns"
      ],
      "metadata": {
        "id": "GUn4OcaPkt59"
      }
    },
    {
      "cell_type": "code",
      "source": [
        "df=df.drop(['Translated_Review'],axis=1)"
      ],
      "metadata": {
        "id": "Nb5DYYTakxQ3"
      },
      "execution_count": 206,
      "outputs": []
    },
    {
      "cell_type": "markdown",
      "source": [
        "# Cleanup (Remove nan values and duplicates)"
      ],
      "metadata": {
        "id": "d9IIBBJvGuyu"
      }
    },
    {
      "cell_type": "code",
      "source": [
        "df.dropna(how='any',inplace=True)"
      ],
      "metadata": {
        "id": "iqzUscdtG40e"
      },
      "execution_count": 207,
      "outputs": []
    },
    {
      "cell_type": "code",
      "source": [
        "df.shape"
      ],
      "metadata": {
        "id": "AtHBEOl-HEpW",
        "colab": {
          "base_uri": "https://localhost:8080/"
        },
        "outputId": "27288f82-471f-4c56-b195-919221027be1"
      },
      "execution_count": 208,
      "outputs": [
        {
          "output_type": "execute_result",
          "data": {
            "text/plain": [
              "(72576, 16)"
            ]
          },
          "metadata": {},
          "execution_count": 208
        }
      ]
    },
    {
      "cell_type": "code",
      "source": [
        "df.isnull().sum()"
      ],
      "metadata": {
        "id": "YpDSdHROHMgV",
        "colab": {
          "base_uri": "https://localhost:8080/"
        },
        "outputId": "6014fb9e-9422-4ea3-d4d9-8359e0932d70"
      },
      "execution_count": 209,
      "outputs": [
        {
          "output_type": "execute_result",
          "data": {
            "text/plain": [
              "App                       0\n",
              "Category                  0\n",
              "Rating                    0\n",
              "Reviews                   0\n",
              "Size                      0\n",
              "Installs                  0\n",
              "Type                      0\n",
              "Price                     0\n",
              "Content Rating            0\n",
              "Genres                    0\n",
              "Last Updated              0\n",
              "Current Ver               0\n",
              "Android Ver               0\n",
              "Sentiment                 0\n",
              "Sentiment_Polarity        0\n",
              "Sentiment_Subjectivity    0\n",
              "dtype: int64"
            ]
          },
          "metadata": {},
          "execution_count": 209
        }
      ]
    },
    {
      "cell_type": "code",
      "source": [
        "df.duplicated().sum()"
      ],
      "metadata": {
        "id": "od-QdJz7Hpbn",
        "colab": {
          "base_uri": "https://localhost:8080/"
        },
        "outputId": "ae996a40-b132-4ad8-b518-98cafc50521d"
      },
      "execution_count": 210,
      "outputs": [
        {
          "output_type": "execute_result",
          "data": {
            "text/plain": [
              "37439"
            ]
          },
          "metadata": {},
          "execution_count": 210
        }
      ]
    },
    {
      "cell_type": "code",
      "source": [
        "df.drop_duplicates(inplace=True)\n",
        "df.reset_index(drop=True,inplace=True)"
      ],
      "metadata": {
        "id": "CtKxWwoEH3cf"
      },
      "execution_count": 211,
      "outputs": []
    },
    {
      "cell_type": "code",
      "source": [
        "df.duplicated().sum()"
      ],
      "metadata": {
        "id": "VHbkQr9mJZ1w",
        "colab": {
          "base_uri": "https://localhost:8080/"
        },
        "outputId": "b87429bc-a6c5-4aab-f5ef-280fd4cb9ee8"
      },
      "execution_count": 212,
      "outputs": [
        {
          "output_type": "execute_result",
          "data": {
            "text/plain": [
              "0"
            ]
          },
          "metadata": {},
          "execution_count": 212
        }
      ]
    },
    {
      "cell_type": "code",
      "source": [
        "df.shape"
      ],
      "metadata": {
        "colab": {
          "base_uri": "https://localhost:8080/"
        },
        "id": "wECRql6Sb0qp",
        "outputId": "068faf02-6aa2-49b5-d600-9fb73cf175cb"
      },
      "execution_count": 213,
      "outputs": [
        {
          "output_type": "execute_result",
          "data": {
            "text/plain": [
              "(35137, 16)"
            ]
          },
          "metadata": {},
          "execution_count": 213
        }
      ]
    },
    {
      "cell_type": "markdown",
      "source": [
        "# Checking The Outliers"
      ],
      "metadata": {
        "id": "Y39cXlqoSiKP"
      }
    },
    {
      "cell_type": "code",
      "source": [
        "df.boxplot();"
      ],
      "metadata": {
        "colab": {
          "base_uri": "https://localhost:8080/",
          "height": 430
        },
        "id": "WJ4NNlCwU-K0",
        "outputId": "c4beabc6-5e38-4b87-db25-d421da615869"
      },
      "execution_count": 214,
      "outputs": [
        {
          "output_type": "display_data",
          "data": {
            "text/plain": [
              "<Figure size 640x480 with 1 Axes>"
            ],
            "image/png": "[encoded data removed]"
          },
          "metadata": {}
        }
      ]
    },
    {
      "cell_type": "code",
      "source": [
        "df['Rating'].plot(kind='hist',range=(1,5),bins=15)\n",
        "plt.xlabel('Ratings-------->')\n",
        "plt.grid()"
      ],
      "metadata": {
        "colab": {
          "base_uri": "https://localhost:8080/",
          "height": 449
        },
        "id": "goHjAeAKMSx1",
        "outputId": "56a43d87-b2d1-4a6a-8202-31f64142d093"
      },
      "execution_count": 215,
      "outputs": [
        {
          "output_type": "display_data",
          "data": {
            "text/plain": [
              "<Figure size 640x480 with 1 Axes>"
            ],
            "image/png": "[encoded data removed]"
          },
          "metadata": {}
        }
      ]
    },
    {
      "cell_type": "code",
      "source": [
        "df['Category'].value_counts().sort_values(ascending=False)"
      ],
      "metadata": {
        "colab": {
          "base_uri": "https://localhost:8080/"
        },
        "id": "HFvxM8kSde6A",
        "outputId": "0a3b0bc6-58f8-4e5b-e888-8e16982461d4"
      },
      "execution_count": 216,
      "outputs": [
        {
          "output_type": "execute_result",
          "data": {
            "text/plain": [
              "GAME                   8824\n",
              "FAMILY                 3164\n",
              "HEALTH_AND_FITNESS     1635\n",
              "TRAVEL_AND_LOCAL       1498\n",
              "PRODUCTIVITY           1465\n",
              "SPORTS                 1405\n",
              "FINANCE                1395\n",
              "PHOTOGRAPHY            1329\n",
              "TOOLS                  1314\n",
              "DATING                 1200\n",
              "COMMUNICATION          1094\n",
              "MEDICAL                1074\n",
              "PERSONALIZATION         971\n",
              "SHOPPING                862\n",
              "SOCIAL                  860\n",
              "NEWS_AND_MAGAZINES      790\n",
              "LIFESTYLE               757\n",
              "ENTERTAINMENT           757\n",
              "EDUCATION               642\n",
              "BUSINESS                591\n",
              "FOOD_AND_DRINK          578\n",
              "BOOKS_AND_REFERENCE     565\n",
              "HOUSE_AND_HOME          392\n",
              "LIBRARIES_AND_DEMO      285\n",
              "ART_AND_DESIGN          280\n",
              "VIDEO_PLAYERS           275\n",
              "AUTO_AND_VEHICLES       230\n",
              "PARENTING               201\n",
              "BEAUTY                  184\n",
              "WEATHER                 180\n",
              "MAPS_AND_NAVIGATION     155\n",
              "EVENTS                  126\n",
              "COMICS                   59\n",
              "Name: Category, dtype: int64"
            ]
          },
          "metadata": {},
          "execution_count": 216
        }
      ]
    },
    {
      "cell_type": "code",
      "source": [
        "# Plotting the number of each category\n",
        "plt.figure(figsize=(16,10))\n",
        "df['Category'].value_counts().plot(kind='barh');\n",
        "plt.xlabel('No. of counts------->',fontsize=15)\n",
        "plt.ylabel('App Category-------->',fontsize=15)"
      ],
      "metadata": {
        "colab": {
          "base_uri": "https://localhost:8080/",
          "height": 695
        },
        "id": "ppJzaYH1dHgY",
        "outputId": "ea0d6448-b957-4b70-9e90-2bccb2da704a"
      },
      "execution_count": 217,
      "outputs": [
        {
          "output_type": "execute_result",
          "data": {
            "text/plain": [
              "Text(0, 0.5, 'App Category-------->')"
            ]
          },
          "metadata": {},
          "execution_count": 217
        },
        {
          "output_type": "display_data",
          "data": {
            "text/plain": [
              "<Figure size 1600x1000 with 1 Axes>"
            ],
            "image/png": "[encoded data removed]"
          },
          "metadata": {}
        }
      ]
    },
    {
      "cell_type": "markdown",
      "source": [
        "# Data Manipulation"
      ],
      "metadata": {
        "id": "oGrVIo2OabL2"
      }
    },
    {
      "cell_type": "code",
      "source": [
        "# Converting Last Updated columns into datetime format\n",
        "df['Last Updated']=pd.to_datetime(df['Last Updated'],format='%B %d, %Y')"
      ],
      "metadata": {
        "id": "pepmR1tRag-u"
      },
      "execution_count": 218,
      "outputs": []
    },
    {
      "cell_type": "code",
      "source": [
        "# Converting the data type of reviews from object type to int type\n",
        "df['Reviews']=df['Reviews'].apply(lambda x:int(x))\n",
        "df['Reviews']"
      ],
      "metadata": {
        "colab": {
          "base_uri": "https://localhost:8080/"
        },
        "id": "LvTq3-I0bI0h",
        "outputId": "2a72b4f7-5669-43ce-b028-5cf36f3ca5f3"
      },
      "execution_count": 219,
      "outputs": [
        {
          "output_type": "execute_result",
          "data": {
            "text/plain": [
              "0           967\n",
              "1           967\n",
              "2           967\n",
              "3           967\n",
              "4           967\n",
              "          ...  \n",
              "35132    223941\n",
              "35133    223941\n",
              "35134    223941\n",
              "35135    223941\n",
              "35136    223941\n",
              "Name: Reviews, Length: 35137, dtype: int64"
            ]
          },
          "metadata": {},
          "execution_count": 219
        }
      ]
    },
    {
      "cell_type": "code",
      "source": [
        "# Converting the data type of size from object to int\n",
        "print(df['Size'])\n",
        "print()\n",
        "# Checking the number of rows with size having values 'Values with Device'\n",
        "len(df[df['Size']==\"Varies with device\"])"
      ],
      "metadata": {
        "colab": {
          "base_uri": "https://localhost:8080/"
        },
        "id": "V290rFsJqYFu",
        "outputId": "3def86bb-b7f6-4025-ba7f-cf9f2f2aa121"
      },
      "execution_count": 225,
      "outputs": [
        {
          "output_type": "stream",
          "name": "stdout",
          "text": [
            "22977    Varies with device\n",
            "22987    Varies with device\n",
            "23001    Varies with device\n",
            "23000    Varies with device\n",
            "22999    Varies with device\n",
            "                ...        \n",
            "22770                  2.0M\n",
            "22769                  2.0M\n",
            "22768                  2.0M\n",
            "22767                  2.0M\n",
            "22788                  2.0M\n",
            "Name: Size, Length: 35137, dtype: object\n",
            "\n"
          ]
        },
        {
          "output_type": "execute_result",
          "data": {
            "text/plain": [
              "12148"
            ]
          },
          "metadata": {},
          "execution_count": 225
        }
      ]
    },
    {
      "cell_type": "code",
      "source": [
        "# replace 'Varies with device' with 'nan' value\n",
        "df[\"Size\"].replace('Varies with device',np.nan,inplace=True)\n",
        "df['Size']\n",
        "len(df[df['Size']==np.nan])\n",
        "len(df[df['Size']==\"Varies with device\"])"
      ],
      "metadata": {
        "colab": {
          "base_uri": "https://localhost:8080/"
        },
        "id": "xjFHDU48sOEK",
        "outputId": "1fb3f407-16a6-496f-9dc8-2c1931b607dd"
      },
      "execution_count": 230,
      "outputs": [
        {
          "output_type": "execute_result",
          "data": {
            "text/plain": [
              "0"
            ]
          },
          "metadata": {},
          "execution_count": 230
        }
      ]
    },
    {
      "cell_type": "code",
      "source": [
        "# Converting size which ends with K and M\n",
        "def convert_size(size):\n",
        "  if size is not np.nan:\n",
        "    if 'K' in size:\n",
        "      return float(size.replace('k',''))*1000\n",
        "    if 'M' in size:\n",
        "      return float(size.replace('M',''))*1000000\n",
        "\n",
        "# apply convert size\n",
        "df['Size']=df[\"Size\"].apply(convert_size)"
      ],
      "metadata": {
        "id": "MN4xRAJa0r2b"
      },
      "execution_count": 232,
      "outputs": []
    },
    {
      "cell_type": "code",
      "source": [
        "# set NaN value to mean\n",
        "df['Size'].fillna(df['Size'].mean(),inplace=True)\n",
        "len(df[df['Size']==np.nan])\n",
        "\n",
        " "
      ],
      "metadata": {
        "colab": {
          "base_uri": "https://localhost:8080/"
        },
        "id": "4AOcSdj-2GS-",
        "outputId": "e35d1d8f-bdd1-4275-a700-55fde2bf08b9"
      },
      "execution_count": 234,
      "outputs": [
        {
          "output_type": "execute_result",
          "data": {
            "text/plain": [
              "0"
            ]
          },
          "metadata": {},
          "execution_count": 234
        }
      ]
    },
    {
      "cell_type": "code",
      "source": [
        "# Find out 20 most review app\n",
        "df.sort_values(by=['Size'],ascending=False,inplace=True)\n",
        "df"
      ],
      "metadata": {
        "colab": {
          "base_uri": "https://localhost:8080/",
          "height": 679
        },
        "id": "6DvnPCzdft5M",
        "outputId": "858417b5-828a-482e-c50d-0fa1d54e92f8"
      },
      "execution_count": 236,
      "outputs": [
        {
          "output_type": "execute_result",
          "data": {
            "text/plain": [
              "                    App            Category  Rating  Reviews        Size  \\\n",
              "10052  Chakra Cleansing  LIBRARIES_AND_DEMO     4.6      539  99000000.0   \n",
              "18146      Hero Hunters                GAME     4.4    70747  99000000.0   \n",
              "10040  Chakra Cleansing  LIBRARIES_AND_DEMO     4.6      539  99000000.0   \n",
              "10039  Chakra Cleansing  LIBRARIES_AND_DEMO     4.6      539  99000000.0   \n",
              "10038  Chakra Cleansing  LIBRARIES_AND_DEMO     4.6      539  99000000.0   \n",
              "...                 ...                 ...     ...      ...         ...   \n",
              "4888   Homework Planner           EDUCATION     4.0     2525   1200000.0   \n",
              "4892   Homework Planner           EDUCATION     4.0     2525   1200000.0   \n",
              "4885   Homework Planner           EDUCATION     4.0     2525   1200000.0   \n",
              "4880   Homework Planner           EDUCATION     4.0     2525   1200000.0   \n",
              "4877   Homework Planner           EDUCATION     4.0     2525   1200000.0   \n",
              "\n",
              "         Installs  Type Price Content Rating            Genres Last Updated  \\\n",
              "10052     50,000+  Free     0       Everyone  Libraries & Demo   2018-08-02   \n",
              "18146  5,000,000+  Free     0           Teen            Action   2018-07-31   \n",
              "10040     50,000+  Free     0       Everyone  Libraries & Demo   2018-08-02   \n",
              "10039     50,000+  Free     0       Everyone  Libraries & Demo   2018-08-02   \n",
              "10038     50,000+  Free     0       Everyone  Libraries & Demo   2018-08-02   \n",
              "...           ...   ...   ...            ...               ...          ...   \n",
              "4888     100,000+  Free     0       Everyone         Education   2015-01-11   \n",
              "4892     100,000+  Free     0       Everyone         Education   2015-01-11   \n",
              "4885     100,000+  Free     0       Everyone         Education   2015-01-11   \n",
              "4880     100,000+  Free     0       Everyone         Education   2015-01-11   \n",
              "4877     100,000+  Free     0       Everyone         Education   2015-01-11   \n",
              "\n",
              "      Current Ver   Android Ver Sentiment  Sentiment_Polarity  \\\n",
              "10052         7.0  4.0.3 and up  Positive            0.250000   \n",
              "18146         1.7    4.4 and up  Positive            0.062121   \n",
              "10040         7.0  4.0.3 and up  Positive            0.750000   \n",
              "10039         7.0  4.0.3 and up  Positive            0.600000   \n",
              "10038         7.0  4.0.3 and up  Positive            0.285714   \n",
              "...           ...           ...       ...                 ...   \n",
              "4888       15.9.4    4.0 and up  Positive            0.475000   \n",
              "4892       15.9.4    4.0 and up  Positive            0.315000   \n",
              "4885       15.9.4    4.0 and up  Positive            0.095833   \n",
              "4880       15.9.4    4.0 and up  Positive            0.422222   \n",
              "4877       15.9.4    4.0 and up  Positive            0.316667   \n",
              "\n",
              "       Sentiment_Subjectivity  \n",
              "10052                0.500000  \n",
              "18146                0.583333  \n",
              "10040                0.800000  \n",
              "10039                1.000000  \n",
              "10038                0.535714  \n",
              "...                       ...  \n",
              "4888                 0.575000  \n",
              "4892                 0.411429  \n",
              "4885                 0.429167  \n",
              "4880                 0.600000  \n",
              "4877                 0.350000  \n",
              "\n",
              "[35137 rows x 16 columns]"
            ],
            "text/html": [
              "\n",
              "  <div id=\"df-1df5af13-cf0d-4da0-8972-da224720c35d\">\n",
              "    <div class=\"colab-df-container\">\n",
              "      <div>\n",
              "<style scoped>\n",
              "    .dataframe tbody tr th:only-of-type {\n",
              "        vertical-align: middle;\n",
              "    }\n",
              "\n",
              "    .dataframe tbody tr th {\n",
              "        vertical-align: top;\n",
              "    }\n",
              "\n",
              "    .dataframe thead th {\n",
              "        text-align: right;\n",
              "    }\n",
              "</style>\n",
              "<table border=\"1\" class=\"dataframe\">\n",
              "  <thead>\n",
              "    <tr style=\"text-align: right;\">\n",
              "      <th></th>\n",
              "      <th>App</th>\n",
              "      <th>Category</th>\n",
              "      <th>Rating</th>\n",
              "      <th>Reviews</th>\n",
              "      <th>Size</th>\n",
              "      <th>Installs</th>\n",
              "      <th>Type</th>\n",
              "      <th>Price</th>\n",
              "      <th>Content Rating</th>\n",
              "      <th>Genres</th>\n",
              "      <th>Last Updated</th>\n",
              "      <th>Current Ver</th>\n",
              "      <th>Android Ver</th>\n",
              "      <th>Sentiment</th>\n",
              "      <th>Sentiment_Polarity</th>\n",
              "      <th>Sentiment_Subjectivity</th>\n",
              "    </tr>\n",
              "  </thead>\n",
              "  <tbody>\n",
              "    <tr>\n",
              "      <th>10052</th>\n",
              "      <td>Chakra Cleansing</td>\n",
              "      <td>LIBRARIES_AND_DEMO</td>\n",
              "      <td>4.6</td>\n",
              "      <td>539</td>\n",
              "      <td>99000000.0</td>\n",
              "      <td>50,000+</td>\n",
              "      <td>Free</td>\n",
              "      <td>0</td>\n",
              "      <td>Everyone</td>\n",
              "      <td>Libraries &amp; Demo</td>\n",
              "      <td>2018-08-02</td>\n",
              "      <td>7.0</td>\n",
              "      <td>4.0.3 and up</td>\n",
              "      <td>Positive</td>\n",
              "      <td>0.250000</td>\n",
              "      <td>0.500000</td>\n",
              "    </tr>\n",
              "    <tr>\n",
              "      <th>18146</th>\n",
              "      <td>Hero Hunters</td>\n",
              "      <td>GAME</td>\n",
              "      <td>4.4</td>\n",
              "      <td>70747</td>\n",
              "      <td>99000000.0</td>\n",
              "      <td>5,000,000+</td>\n",
              "      <td>Free</td>\n",
              "      <td>0</td>\n",
              "      <td>Teen</td>\n",
              "      <td>Action</td>\n",
              "      <td>2018-07-31</td>\n",
              "      <td>1.7</td>\n",
              "      <td>4.4 and up</td>\n",
              "      <td>Positive</td>\n",
              "      <td>0.062121</td>\n",
              "      <td>0.583333</td>\n",
              "    </tr>\n",
              "    <tr>\n",
              "      <th>10040</th>\n",
              "      <td>Chakra Cleansing</td>\n",
              "      <td>LIBRARIES_AND_DEMO</td>\n",
              "      <td>4.6</td>\n",
              "      <td>539</td>\n",
              "      <td>99000000.0</td>\n",
              "      <td>50,000+</td>\n",
              "      <td>Free</td>\n",
              "      <td>0</td>\n",
              "      <td>Everyone</td>\n",
              "      <td>Libraries &amp; Demo</td>\n",
              "      <td>2018-08-02</td>\n",
              "      <td>7.0</td>\n",
              "      <td>4.0.3 and up</td>\n",
              "      <td>Positive</td>\n",
              "      <td>0.750000</td>\n",
              "      <td>0.800000</td>\n",
              "    </tr>\n",
              "    <tr>\n",
              "      <th>10039</th>\n",
              "      <td>Chakra Cleansing</td>\n",
              "      <td>LIBRARIES_AND_DEMO</td>\n",
              "      <td>4.6</td>\n",
              "      <td>539</td>\n",
              "      <td>99000000.0</td>\n",
              "      <td>50,000+</td>\n",
              "      <td>Free</td>\n",
              "      <td>0</td>\n",
              "      <td>Everyone</td>\n",
              "      <td>Libraries &amp; Demo</td>\n",
              "      <td>2018-08-02</td>\n",
              "      <td>7.0</td>\n",
              "      <td>4.0.3 and up</td>\n",
              "      <td>Positive</td>\n",
              "      <td>0.600000</td>\n",
              "      <td>1.000000</td>\n",
              "    </tr>\n",
              "    <tr>\n",
              "      <th>10038</th>\n",
              "      <td>Chakra Cleansing</td>\n",
              "      <td>LIBRARIES_AND_DEMO</td>\n",
              "      <td>4.6</td>\n",
              "      <td>539</td>\n",
              "      <td>99000000.0</td>\n",
              "      <td>50,000+</td>\n",
              "      <td>Free</td>\n",
              "      <td>0</td>\n",
              "      <td>Everyone</td>\n",
              "      <td>Libraries &amp; Demo</td>\n",
              "      <td>2018-08-02</td>\n",
              "      <td>7.0</td>\n",
              "      <td>4.0.3 and up</td>\n",
              "      <td>Positive</td>\n",
              "      <td>0.285714</td>\n",
              "      <td>0.535714</td>\n",
              "    </tr>\n",
              "    <tr>\n",
              "      <th>...</th>\n",
              "      <td>...</td>\n",
              "      <td>...</td>\n",
              "      <td>...</td>\n",
              "      <td>...</td>\n",
              "      <td>...</td>\n",
              "      <td>...</td>\n",
              "      <td>...</td>\n",
              "      <td>...</td>\n",
              "      <td>...</td>\n",
              "      <td>...</td>\n",
              "      <td>...</td>\n",
              "      <td>...</td>\n",
              "      <td>...</td>\n",
              "      <td>...</td>\n",
              "      <td>...</td>\n",
              "      <td>...</td>\n",
              "    </tr>\n",
              "    <tr>\n",
              "      <th>4888</th>\n",
              "      <td>Homework Planner</td>\n",
              "      <td>EDUCATION</td>\n",
              "      <td>4.0</td>\n",
              "      <td>2525</td>\n",
              "      <td>1200000.0</td>\n",
              "      <td>100,000+</td>\n",
              "      <td>Free</td>\n",
              "      <td>0</td>\n",
              "      <td>Everyone</td>\n",
              "      <td>Education</td>\n",
              "      <td>2015-01-11</td>\n",
              "      <td>15.9.4</td>\n",
              "      <td>4.0 and up</td>\n",
              "      <td>Positive</td>\n",
              "      <td>0.475000</td>\n",
              "      <td>0.575000</td>\n",
              "    </tr>\n",
              "    <tr>\n",
              "      <th>4892</th>\n",
              "      <td>Homework Planner</td>\n",
              "      <td>EDUCATION</td>\n",
              "      <td>4.0</td>\n",
              "      <td>2525</td>\n",
              "      <td>1200000.0</td>\n",
              "      <td>100,000+</td>\n",
              "      <td>Free</td>\n",
              "      <td>0</td>\n",
              "      <td>Everyone</td>\n",
              "      <td>Education</td>\n",
              "      <td>2015-01-11</td>\n",
              "      <td>15.9.4</td>\n",
              "      <td>4.0 and up</td>\n",
              "      <td>Positive</td>\n",
              "      <td>0.315000</td>\n",
              "      <td>0.411429</td>\n",
              "    </tr>\n",
              "    <tr>\n",
              "      <th>4885</th>\n",
              "      <td>Homework Planner</td>\n",
              "      <td>EDUCATION</td>\n",
              "      <td>4.0</td>\n",
              "      <td>2525</td>\n",
              "      <td>1200000.0</td>\n",
              "      <td>100,000+</td>\n",
              "      <td>Free</td>\n",
              "      <td>0</td>\n",
              "      <td>Everyone</td>\n",
              "      <td>Education</td>\n",
              "      <td>2015-01-11</td>\n",
              "      <td>15.9.4</td>\n",
              "      <td>4.0 and up</td>\n",
              "      <td>Positive</td>\n",
              "      <td>0.095833</td>\n",
              "      <td>0.429167</td>\n",
              "    </tr>\n",
              "    <tr>\n",
              "      <th>4880</th>\n",
              "      <td>Homework Planner</td>\n",
              "      <td>EDUCATION</td>\n",
              "      <td>4.0</td>\n",
              "      <td>2525</td>\n",
              "      <td>1200000.0</td>\n",
              "      <td>100,000+</td>\n",
              "      <td>Free</td>\n",
              "      <td>0</td>\n",
              "      <td>Everyone</td>\n",
              "      <td>Education</td>\n",
              "      <td>2015-01-11</td>\n",
              "      <td>15.9.4</td>\n",
              "      <td>4.0 and up</td>\n",
              "      <td>Positive</td>\n",
              "      <td>0.422222</td>\n",
              "      <td>0.600000</td>\n",
              "    </tr>\n",
              "    <tr>\n",
              "      <th>4877</th>\n",
              "      <td>Homework Planner</td>\n",
              "      <td>EDUCATION</td>\n",
              "      <td>4.0</td>\n",
              "      <td>2525</td>\n",
              "      <td>1200000.0</td>\n",
              "      <td>100,000+</td>\n",
              "      <td>Free</td>\n",
              "      <td>0</td>\n",
              "      <td>Everyone</td>\n",
              "      <td>Education</td>\n",
              "      <td>2015-01-11</td>\n",
              "      <td>15.9.4</td>\n",
              "      <td>4.0 and up</td>\n",
              "      <td>Positive</td>\n",
              "      <td>0.316667</td>\n",
              "      <td>0.350000</td>\n",
              "    </tr>\n",
              "  </tbody>\n",
              "</table>\n",
              "<p>35137 rows × 16 columns</p>\n",
              "</div>\n",
              "      <button class=\"colab-df-convert\" onclick=\"convertToInteractive('df-1df5af13-cf0d-4da0-8972-da224720c35d')\"\n",
              "              title=\"Convert this dataframe to an interactive table.\"\n",
              "              style=\"display:none;\">\n",
              "        \n",
              "  <svg xmlns=\"http://www.w3.org/2000/svg\" height=\"24px\"viewBox=\"0 0 24 24\"\n",
              "       width=\"24px\">\n",
              "    <path d=\"M0 0h24v24H0V0z\" fill=\"none\"/>\n",
              "    <path d=\"M18.56 5.44l.94 2.06.94-2.06 2.06-.94-2.06-.94-.94-2.06-.94 2.06-2.06.94zm-11 1L8.5 8.5l.94-2.06 2.06-.94-2.06-.94L8.5 2.5l-.94 2.06-2.06.94zm10 10l.94 2.06.94-2.06 2.06-.94-2.06-.94-.94-2.06-.94 2.06-2.06.94z\"/><path d=\"M17.41 7.96l-1.37-1.37c-.4-.4-.92-.59-1.43-.59-.52 0-1.04.2-1.43.59L10.3 9.45l-7.72 7.72c-.78.78-.78 2.05 0 2.83L4 21.41c.39.39.9.59 1.41.59.51 0 1.02-.2 1.41-.59l7.78-7.78 2.81-2.81c.8-.78.8-2.07 0-2.86zM5.41 20L4 18.59l7.72-7.72 1.47 1.35L5.41 20z\"/>\n",
              "  </svg>\n",
              "      </button>\n",
              "      \n",
              "  <style>\n",
              "    .colab-df-container {\n",
              "      display:flex;\n",
              "      flex-wrap:wrap;\n",
              "      gap: 12px;\n",
              "    }\n",
              "\n",
              "    .colab-df-convert {\n",
              "      background-color: #E8F0FE;\n",
              "      border: none;\n",
              "      border-radius: 50%;\n",
              "      cursor: pointer;\n",
              "      display: none;\n",
              "      fill: #1967D2;\n",
              "      height: 32px;\n",
              "      padding: 0 0 0 0;\n",
              "      width: 32px;\n",
              "    }\n",
              "\n",
              "    .colab-df-convert:hover {\n",
              "      background-color: #E2EBFA;\n",
              "      box-shadow: 0px 1px 2px rgba(60, 64, 67, 0.3), 0px 1px 3px 1px rgba(60, 64, 67, 0.15);\n",
              "      fill: #174EA6;\n",
              "    }\n",
              "\n",
              "    [theme=dark] .colab-df-convert {\n",
              "      background-color: #3B4455;\n",
              "      fill: #D2E3FC;\n",
              "    }\n",
              "\n",
              "    [theme=dark] .colab-df-convert:hover {\n",
              "      background-color: #434B5C;\n",
              "      box-shadow: 0px 1px 3px 1px rgba(0, 0, 0, 0.15);\n",
              "      filter: drop-shadow(0px 1px 2px rgba(0, 0, 0, 0.3));\n",
              "      fill: #FFFFFF;\n",
              "    }\n",
              "  </style>\n",
              "\n",
              "      <script>\n",
              "        const buttonEl =\n",
              "          document.querySelector('#df-1df5af13-cf0d-4da0-8972-da224720c35d button.colab-df-convert');\n",
              "        buttonEl.style.display =\n",
              "          google.colab.kernel.accessAllowed ? 'block' : 'none';\n",
              "\n",
              "        async function convertToInteractive(key) {\n",
              "          const element = document.querySelector('#df-1df5af13-cf0d-4da0-8972-da224720c35d');\n",
              "          const dataTable =\n",
              "            await google.colab.kernel.invokeFunction('convertToInteractive',\n",
              "                                                     [key], {});\n",
              "          if (!dataTable) return;\n",
              "\n",
              "          const docLinkHtml = 'Like what you see? Visit the ' +\n",
              "            '<a target=\"_blank\" href=https://colab.research.google.com/notebooks/data_table.ipynb>data table notebook</a>'\n",
              "            + ' to learn more about interactive tables.';\n",
              "          element.innerHTML = '';\n",
              "          dataTable['output_type'] = 'display_data';\n",
              "          await google.colab.output.renderOutput(dataTable, element);\n",
              "          const docLink = document.createElement('div');\n",
              "          docLink.innerHTML = docLinkHtml;\n",
              "          element.appendChild(docLink);\n",
              "        }\n",
              "      </script>\n",
              "    </div>\n",
              "  </div>\n",
              "  "
            ]
          },
          "metadata": {},
          "execution_count": 236
        }
      ]
    },
    {
      "cell_type": "code",
      "source": [],
      "metadata": {
        "id": "K1WHAdIMptNC"
      },
      "execution_count": 221,
      "outputs": []
    },
    {
      "cell_type": "markdown",
      "source": [
        "## Data Visualization"
      ],
      "metadata": {
        "id": "tCUHWRGdX5cy"
      }
    }
  ]
}